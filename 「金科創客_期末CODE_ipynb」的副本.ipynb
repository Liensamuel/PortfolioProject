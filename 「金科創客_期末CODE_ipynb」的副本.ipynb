{
  "cells": [
    {
      "cell_type": "markdown",
      "id": "5961659b",
      "metadata": {
        "id": "5961659b"
      },
      "source": [
        "## Packages importing"
      ]
    },
    {
      "cell_type": "code",
      "execution_count": null,
      "id": "41a1335d",
      "metadata": {
        "id": "41a1335d"
      },
      "outputs": [],
      "source": [
        "# Packages for EDA\n",
        "import matplotlib.pyplot as plt\n",
        "import seaborn as sns\n",
        "import pandas as pd\n",
        "import numpy as np\n",
        "\n",
        "# Data Preprocessing\n",
        "from sklearn.model_selection import train_test_split\n",
        "from sklearn.preprocessing import PowerTransformer\n",
        "from datasist.structdata import detect_outliers\n",
        "from sklearn.metrics import mean_squared_error\n",
        "from imblearn.over_sampling import SMOTE\n",
        "from sklearn.impute import SimpleImputer\n",
        "import category_encoders as ce\n",
        "import re\n",
        "\n",
        "# Modeling and evaluation\n",
        "from sklearn.experimental import enable_hist_gradient_boosting\n",
        "from sklearn.ensemble import (\n",
        "    BaggingClassifier,\n",
        "    ExtraTreesClassifier,\n",
        "    RandomForestClassifier,\n",
        "    StackingClassifier,\n",
        "    HistGradientBoostingClassifier\n",
        ")\n",
        "from xgboost import XGBClassifier\n",
        "from sklearn.metrics import classification_report\n",
        "import joblib\n",
        "\n",
        "# Packages options\n",
        "sns.set(rc={'figure.figsize': [14, 7]}, font_scale=1.2) # Standard figure size for all\n",
        "np.seterr(divide='ignore', invalid='ignore', over='ignore') ;\n",
        "\n",
        "import warnings\n",
        "warnings.filterwarnings(\"ignore\")"
      ]
    },
    {
      "cell_type": "markdown",
      "id": "8f7c4145",
      "metadata": {
        "id": "8f7c4145"
      },
      "source": [
        "## Reading Data"
      ]
    },
    {
      "cell_type": "code",
      "execution_count": null,
      "id": "f5d7e2f2",
      "metadata": {
        "id": "f5d7e2f2"
      },
      "outputs": [],
      "source": [
        "df = pd.read_csv(\"./train.csv\",low_memory=False)"
      ]
    },
    {
      "cell_type": "markdown",
      "id": "4a22eda0",
      "metadata": {
        "id": "4a22eda0"
      },
      "source": [
        "#### removing unuseful Columns (Uniques)"
      ]
    },
    {
      "cell_type": "code",
      "execution_count": null,
      "id": "b26faa6c",
      "metadata": {
        "id": "b26faa6c"
      },
      "outputs": [],
      "source": [
        "del df['ID'] # Identification\n",
        "del df['Name'] # Name of client\n",
        "del df['SSN'] # SSN (social security number of a person)"
      ]
    },
    {
      "cell_type": "markdown",
      "id": "30474ed1",
      "metadata": {
        "id": "30474ed1"
      },
      "source": [
        "#### Fix Numerical Columns"
      ]
    },
    {
      "cell_type": "markdown",
      "id": "c73d4d40",
      "metadata": {
        "id": "c73d4d40"
      },
      "source": [
        "1. replace _  \n",
        "2. convert into float"
      ]
    },
    {
      "cell_type": "code",
      "execution_count": null,
      "id": "bc4bb801",
      "metadata": {
        "id": "bc4bb801"
      },
      "outputs": [],
      "source": [
        "N_to_fix = ['Age', 'Annual_Income', 'Num_of_Loan', 'Num_of_Delayed_Payment', 'Changed_Credit_Limit', 'Amount_invested_monthly', 'Outstanding_Debt' , 'Monthly_Balance']"
      ]
    },
    {
      "cell_type": "code",
      "execution_count": null,
      "id": "db2a1519",
      "metadata": {
        "id": "db2a1519"
      },
      "outputs": [],
      "source": [
        "def fix_nums(num):\n",
        "    try :\n",
        "        return float(num.replace(\"_\",\"\"))\n",
        "    except :\n",
        "        return np.nan"
      ]
    },
    {
      "cell_type": "code",
      "execution_count": null,
      "id": "6f4c88d4",
      "metadata": {
        "id": "6f4c88d4"
      },
      "outputs": [],
      "source": [
        "for col in N_to_fix :\n",
        "    df[col] = df[col].apply(fix_nums)"
      ]
    },
    {
      "cell_type": "markdown",
      "id": "23cc7c87",
      "metadata": {
        "id": "23cc7c87"
      },
      "source": [
        "### Type_of_Loan"
      ]
    },
    {
      "cell_type": "code",
      "execution_count": null,
      "id": "ad013e44",
      "metadata": {
        "id": "ad013e44"
      },
      "outputs": [],
      "source": [
        "## Rebuild Type of loans Columns\n",
        "for i in df['Type_of_Loan'].value_counts().head(9).index[1:] :\n",
        "    df[i] = df['Type_of_Loan'].str.contains(i)\n",
        "\n",
        "del df['Type_of_Loan']"
      ]
    },
    {
      "cell_type": "markdown",
      "id": "104d17f6",
      "metadata": {
        "id": "104d17f6"
      },
      "source": [
        "#### Num_Bank_Accounts"
      ]
    },
    {
      "cell_type": "code",
      "execution_count": null,
      "id": "a9ea37e4",
      "metadata": {
        "id": "a9ea37e4"
      },
      "outputs": [],
      "source": [
        "df['Num_Bank_Accounts'] = df['Num_Bank_Accounts'].apply(lambda x :abs (x))"
      ]
    },
    {
      "cell_type": "markdown",
      "id": "0ef847de",
      "metadata": {
        "id": "0ef847de"
      },
      "source": [
        "#### Num_Credit_Card"
      ]
    },
    {
      "cell_type": "code",
      "execution_count": null,
      "id": "131bac4f",
      "metadata": {
        "id": "131bac4f"
      },
      "outputs": [],
      "source": [
        "df['Num_Credit_Card'].replace(0,1,inplace=True)"
      ]
    },
    {
      "cell_type": "markdown",
      "id": "230f5eb6",
      "metadata": {
        "id": "230f5eb6"
      },
      "source": [
        "#### Credit_History_Age"
      ]
    },
    {
      "cell_type": "code",
      "execution_count": null,
      "id": "0cb76d48",
      "metadata": {
        "id": "0cb76d48"
      },
      "outputs": [],
      "source": [
        "def History_age(age):\n",
        "    try :\n",
        "        years = int(\"\".join(re.findall('[0-9]',''.join(age.split(\"and\")[0]))))\n",
        "        month = int(\"\".join(re.findall('[0-9]',''.join(age.split(\"and\")[1]))))\n",
        "        return years*12 + month\n",
        "    except :\n",
        "        return np.nan"
      ]
    },
    {
      "cell_type": "code",
      "execution_count": null,
      "id": "3dc37d59",
      "metadata": {
        "id": "3dc37d59"
      },
      "outputs": [],
      "source": [
        "df['Credit_History_Age'] = df['Credit_History_Age'].apply(History_age)"
      ]
    },
    {
      "cell_type": "markdown",
      "id": "26cc2b0f",
      "metadata": {
        "id": "26cc2b0f"
      },
      "source": [
        "#### Payment_of_Min_Amount"
      ]
    },
    {
      "cell_type": "code",
      "execution_count": null,
      "id": "cb3fed26",
      "metadata": {
        "id": "cb3fed26"
      },
      "outputs": [],
      "source": [
        "df['Payment_of_Min_Amount'].replace(\"NM\",\"No\",inplace=True)"
      ]
    },
    {
      "cell_type": "code",
      "execution_count": null,
      "id": "9e7097c1",
      "metadata": {
        "id": "9e7097c1",
        "outputId": "8b3f7340-d11c-4cb5-c0ea-74ab6c247437"
      },
      "outputs": [
        {
          "data": {
            "text/plain": [
              "Yes    52326\n",
              "No     47674\n",
              "Name: Payment_of_Min_Amount, dtype: int64"
            ]
          },
          "execution_count": 30,
          "metadata": {},
          "output_type": "execute_result"
        }
      ],
      "source": [
        "df['Payment_of_Min_Amount'].value_counts()"
      ]
    },
    {
      "cell_type": "markdown",
      "id": "6ca22c96",
      "metadata": {
        "id": "6ca22c96"
      },
      "source": [
        "#### Payment_Behaviour"
      ]
    },
    {
      "cell_type": "code",
      "execution_count": null,
      "id": "10bc2732",
      "metadata": {
        "id": "10bc2732"
      },
      "outputs": [],
      "source": [
        "df['Payment_Behaviour']= df['Payment_Behaviour'].replace(\"!@9#%8\",np.nan)"
      ]
    },
    {
      "cell_type": "code",
      "execution_count": null,
      "id": "0b617b9d",
      "metadata": {
        "id": "0b617b9d",
        "outputId": "f443e2a6-14f6-44d4-cc57-78e71251342b"
      },
      "outputs": [
        {
          "data": {
            "text/plain": [
              "Low_spent_Small_value_payments      25513\n",
              "High_spent_Medium_value_payments    17540\n",
              "Low_spent_Medium_value_payments     13861\n",
              "High_spent_Large_value_payments     13721\n",
              "High_spent_Small_value_payments     11340\n",
              "Low_spent_Large_value_payments      10425\n",
              "Name: Payment_Behaviour, dtype: int64"
            ]
          },
          "execution_count": 32,
          "metadata": {},
          "output_type": "execute_result"
        }
      ],
      "source": [
        "df['Payment_Behaviour'].value_counts()"
      ]
    },
    {
      "cell_type": "markdown",
      "id": "09fd08fc",
      "metadata": {
        "id": "09fd08fc"
      },
      "source": [
        "### Occupation"
      ]
    },
    {
      "cell_type": "code",
      "execution_count": null,
      "id": "0f767c40",
      "metadata": {
        "id": "0f767c40",
        "outputId": "265a637a-1539-4eb1-abf6-3dcfacf5142e"
      },
      "outputs": [
        {
          "data": {
            "text/plain": [
              "_______          7062\n",
              "Lawyer           6575\n",
              "Architect        6355\n",
              "Engineer         6350\n",
              "Scientist        6299\n",
              "Mechanic         6291\n",
              "Accountant       6271\n",
              "Developer        6235\n",
              "Media_Manager    6232\n",
              "Teacher          6215\n",
              "Entrepreneur     6174\n",
              "Doctor           6087\n",
              "Journalist       6085\n",
              "Manager          5973\n",
              "Musician         5911\n",
              "Writer           5885\n",
              "Name: Occupation, dtype: int64"
            ]
          },
          "execution_count": 33,
          "metadata": {},
          "output_type": "execute_result"
        }
      ],
      "source": [
        "df['Occupation'].value_counts()"
      ]
    },
    {
      "cell_type": "code",
      "execution_count": null,
      "id": "22d41181",
      "metadata": {
        "id": "22d41181",
        "outputId": "f94f67c8-7a0d-46a2-fe13-4f2d96325a3b"
      },
      "outputs": [
        {
          "data": {
            "text/plain": [
              "Index(['Lawyer', 'Architect', 'Engineer', 'Scientist', 'Mechanic',\n",
              "       'Accountant', 'Developer', 'Media_Manager', 'Teacher', 'Entrepreneur',\n",
              "       'Doctor', 'Journalist', 'Manager', 'Musician', 'Writer'],\n",
              "      dtype='object')"
            ]
          },
          "execution_count": 34,
          "metadata": {},
          "output_type": "execute_result"
        }
      ],
      "source": [
        "occs = df['Occupation'].value_counts().index[1:]\n",
        "occs"
      ]
    },
    {
      "cell_type": "code",
      "execution_count": null,
      "id": "d3db24dc",
      "metadata": {
        "id": "d3db24dc",
        "outputId": "65d21af9-02d0-4cd4-ef46-d48386cd7c94"
      },
      "outputs": [
        {
          "data": {
            "text/html": [
              "<div>\n",
              "<style scoped>\n",
              "    .dataframe tbody tr th:only-of-type {\n",
              "        vertical-align: middle;\n",
              "    }\n",
              "\n",
              "    .dataframe tbody tr th {\n",
              "        vertical-align: top;\n",
              "    }\n",
              "\n",
              "    .dataframe thead th {\n",
              "        text-align: right;\n",
              "    }\n",
              "</style>\n",
              "<table border=\"1\" class=\"dataframe\">\n",
              "  <thead>\n",
              "    <tr style=\"text-align: right;\">\n",
              "      <th></th>\n",
              "      <th>Customer_ID</th>\n",
              "      <th>Month</th>\n",
              "      <th>Age</th>\n",
              "      <th>Occupation</th>\n",
              "      <th>Annual_Income</th>\n",
              "      <th>Monthly_Inhand_Salary</th>\n",
              "      <th>Num_Bank_Accounts</th>\n",
              "      <th>Num_Credit_Card</th>\n",
              "      <th>Interest_Rate</th>\n",
              "      <th>Num_of_Loan</th>\n",
              "      <th>...</th>\n",
              "      <th>Monthly_Balance</th>\n",
              "      <th>Credit_Score</th>\n",
              "      <th>Credit-Builder Loan</th>\n",
              "      <th>Personal Loan</th>\n",
              "      <th>Debt Consolidation Loan</th>\n",
              "      <th>Student Loan</th>\n",
              "      <th>Payday Loan</th>\n",
              "      <th>Mortgage Loan</th>\n",
              "      <th>Auto Loan</th>\n",
              "      <th>Home Equity Loan</th>\n",
              "    </tr>\n",
              "  </thead>\n",
              "  <tbody>\n",
              "    <tr>\n",
              "      <th>24</th>\n",
              "      <td>CUS_0xb891</td>\n",
              "      <td>January</td>\n",
              "      <td>54.0</td>\n",
              "      <td>Entrepreneur</td>\n",
              "      <td>30689.89</td>\n",
              "      <td>2612.490833</td>\n",
              "      <td>2</td>\n",
              "      <td>5</td>\n",
              "      <td>4</td>\n",
              "      <td>1.0</td>\n",
              "      <td>...</td>\n",
              "      <td>433.604773</td>\n",
              "      <td>Standard</td>\n",
              "      <td>False</td>\n",
              "      <td>False</td>\n",
              "      <td>False</td>\n",
              "      <td>False</td>\n",
              "      <td>False</td>\n",
              "      <td>False</td>\n",
              "      <td>False</td>\n",
              "      <td>False</td>\n",
              "    </tr>\n",
              "    <tr>\n",
              "      <th>25</th>\n",
              "      <td>CUS_0xb891</td>\n",
              "      <td>February</td>\n",
              "      <td>54.0</td>\n",
              "      <td>Entrepreneur</td>\n",
              "      <td>30689.89</td>\n",
              "      <td>2612.490833</td>\n",
              "      <td>2</td>\n",
              "      <td>5</td>\n",
              "      <td>4</td>\n",
              "      <td>1.0</td>\n",
              "      <td>...</td>\n",
              "      <td>409.951812</td>\n",
              "      <td>Standard</td>\n",
              "      <td>False</td>\n",
              "      <td>False</td>\n",
              "      <td>False</td>\n",
              "      <td>False</td>\n",
              "      <td>False</td>\n",
              "      <td>False</td>\n",
              "      <td>False</td>\n",
              "      <td>False</td>\n",
              "    </tr>\n",
              "    <tr>\n",
              "      <th>26</th>\n",
              "      <td>CUS_0xb891</td>\n",
              "      <td>March</td>\n",
              "      <td>55.0</td>\n",
              "      <td>Entrepreneur</td>\n",
              "      <td>30689.89</td>\n",
              "      <td>2612.490833</td>\n",
              "      <td>2</td>\n",
              "      <td>5</td>\n",
              "      <td>4</td>\n",
              "      <td>1.0</td>\n",
              "      <td>...</td>\n",
              "      <td>411.427123</td>\n",
              "      <td>Standard</td>\n",
              "      <td>False</td>\n",
              "      <td>False</td>\n",
              "      <td>False</td>\n",
              "      <td>False</td>\n",
              "      <td>False</td>\n",
              "      <td>False</td>\n",
              "      <td>False</td>\n",
              "      <td>False</td>\n",
              "    </tr>\n",
              "    <tr>\n",
              "      <th>27</th>\n",
              "      <td>CUS_0xb891</td>\n",
              "      <td>April</td>\n",
              "      <td>55.0</td>\n",
              "      <td>Entrepreneur</td>\n",
              "      <td>30689.89</td>\n",
              "      <td>2612.490833</td>\n",
              "      <td>2</td>\n",
              "      <td>5</td>\n",
              "      <td>4</td>\n",
              "      <td>1.0</td>\n",
              "      <td>...</td>\n",
              "      <td>262.499594</td>\n",
              "      <td>Standard</td>\n",
              "      <td>False</td>\n",
              "      <td>False</td>\n",
              "      <td>False</td>\n",
              "      <td>False</td>\n",
              "      <td>False</td>\n",
              "      <td>False</td>\n",
              "      <td>False</td>\n",
              "      <td>False</td>\n",
              "    </tr>\n",
              "    <tr>\n",
              "      <th>28</th>\n",
              "      <td>CUS_0xb891</td>\n",
              "      <td>May</td>\n",
              "      <td>55.0</td>\n",
              "      <td>Entrepreneur</td>\n",
              "      <td>30689.89</td>\n",
              "      <td>2612.490833</td>\n",
              "      <td>2</td>\n",
              "      <td>5</td>\n",
              "      <td>4</td>\n",
              "      <td>1.0</td>\n",
              "      <td>...</td>\n",
              "      <td>359.374916</td>\n",
              "      <td>Standard</td>\n",
              "      <td>False</td>\n",
              "      <td>False</td>\n",
              "      <td>False</td>\n",
              "      <td>False</td>\n",
              "      <td>False</td>\n",
              "      <td>False</td>\n",
              "      <td>False</td>\n",
              "      <td>False</td>\n",
              "    </tr>\n",
              "    <tr>\n",
              "      <th>29</th>\n",
              "      <td>CUS_0xb891</td>\n",
              "      <td>June</td>\n",
              "      <td>55.0</td>\n",
              "      <td>Entrepreneur</td>\n",
              "      <td>30689.89</td>\n",
              "      <td>2612.490833</td>\n",
              "      <td>2</td>\n",
              "      <td>5</td>\n",
              "      <td>4</td>\n",
              "      <td>1.0</td>\n",
              "      <td>...</td>\n",
              "      <td>419.880784</td>\n",
              "      <td>Standard</td>\n",
              "      <td>False</td>\n",
              "      <td>False</td>\n",
              "      <td>False</td>\n",
              "      <td>False</td>\n",
              "      <td>False</td>\n",
              "      <td>False</td>\n",
              "      <td>False</td>\n",
              "      <td>False</td>\n",
              "    </tr>\n",
              "    <tr>\n",
              "      <th>30</th>\n",
              "      <td>CUS_0xb891</td>\n",
              "      <td>July</td>\n",
              "      <td>55.0</td>\n",
              "      <td>Entrepreneur</td>\n",
              "      <td>30689.89</td>\n",
              "      <td>2612.490833</td>\n",
              "      <td>2</td>\n",
              "      <td>5</td>\n",
              "      <td>4</td>\n",
              "      <td>1.0</td>\n",
              "      <td>...</td>\n",
              "      <td>443.549957</td>\n",
              "      <td>Standard</td>\n",
              "      <td>False</td>\n",
              "      <td>False</td>\n",
              "      <td>False</td>\n",
              "      <td>False</td>\n",
              "      <td>False</td>\n",
              "      <td>False</td>\n",
              "      <td>False</td>\n",
              "      <td>False</td>\n",
              "    </tr>\n",
              "    <tr>\n",
              "      <th>31</th>\n",
              "      <td>CUS_0xb891</td>\n",
              "      <td>August</td>\n",
              "      <td>55.0</td>\n",
              "      <td>Entrepreneur</td>\n",
              "      <td>30689.89</td>\n",
              "      <td>2612.490833</td>\n",
              "      <td>2</td>\n",
              "      <td>5</td>\n",
              "      <td>4</td>\n",
              "      <td>-100.0</td>\n",
              "      <td>...</td>\n",
              "      <td>379.216381</td>\n",
              "      <td>Standard</td>\n",
              "      <td>False</td>\n",
              "      <td>False</td>\n",
              "      <td>False</td>\n",
              "      <td>False</td>\n",
              "      <td>False</td>\n",
              "      <td>False</td>\n",
              "      <td>False</td>\n",
              "      <td>False</td>\n",
              "    </tr>\n",
              "  </tbody>\n",
              "</table>\n",
              "<p>8 rows × 32 columns</p>\n",
              "</div>"
            ],
            "text/plain": [
              "   Customer_ID     Month   Age    Occupation  Annual_Income  \\\n",
              "24  CUS_0xb891   January  54.0  Entrepreneur       30689.89   \n",
              "25  CUS_0xb891  February  54.0  Entrepreneur       30689.89   \n",
              "26  CUS_0xb891     March  55.0  Entrepreneur       30689.89   \n",
              "27  CUS_0xb891     April  55.0  Entrepreneur       30689.89   \n",
              "28  CUS_0xb891       May  55.0  Entrepreneur       30689.89   \n",
              "29  CUS_0xb891      June  55.0  Entrepreneur       30689.89   \n",
              "30  CUS_0xb891      July  55.0  Entrepreneur       30689.89   \n",
              "31  CUS_0xb891    August  55.0  Entrepreneur       30689.89   \n",
              "\n",
              "    Monthly_Inhand_Salary  Num_Bank_Accounts  Num_Credit_Card  Interest_Rate  \\\n",
              "24            2612.490833                  2                5              4   \n",
              "25            2612.490833                  2                5              4   \n",
              "26            2612.490833                  2                5              4   \n",
              "27            2612.490833                  2                5              4   \n",
              "28            2612.490833                  2                5              4   \n",
              "29            2612.490833                  2                5              4   \n",
              "30            2612.490833                  2                5              4   \n",
              "31            2612.490833                  2                5              4   \n",
              "\n",
              "    Num_of_Loan  ...  Monthly_Balance  Credit_Score  Credit-Builder Loan  \\\n",
              "24          1.0  ...       433.604773      Standard                False   \n",
              "25          1.0  ...       409.951812      Standard                False   \n",
              "26          1.0  ...       411.427123      Standard                False   \n",
              "27          1.0  ...       262.499594      Standard                False   \n",
              "28          1.0  ...       359.374916      Standard                False   \n",
              "29          1.0  ...       419.880784      Standard                False   \n",
              "30          1.0  ...       443.549957      Standard                False   \n",
              "31       -100.0  ...       379.216381      Standard                False   \n",
              "\n",
              "    Personal Loan Debt Consolidation Loan  Student Loan  Payday Loan  \\\n",
              "24          False                   False         False        False   \n",
              "25          False                   False         False        False   \n",
              "26          False                   False         False        False   \n",
              "27          False                   False         False        False   \n",
              "28          False                   False         False        False   \n",
              "29          False                   False         False        False   \n",
              "30          False                   False         False        False   \n",
              "31          False                   False         False        False   \n",
              "\n",
              "    Mortgage Loan Auto Loan  Home Equity Loan  \n",
              "24          False     False             False  \n",
              "25          False     False             False  \n",
              "26          False     False             False  \n",
              "27          False     False             False  \n",
              "28          False     False             False  \n",
              "29          False     False             False  \n",
              "30          False     False             False  \n",
              "31          False     False             False  \n",
              "\n",
              "[8 rows x 32 columns]"
            ]
          },
          "execution_count": 35,
          "metadata": {},
          "output_type": "execute_result"
        }
      ],
      "source": [
        "id_ = \"CUS_0xb891\"\n",
        "oc = df[df['Customer_ID'] == id_]['Occupation'].mode()[0]\n",
        "df[df['Customer_ID'] == id_].replace(\"_______\",oc)"
      ]
    },
    {
      "cell_type": "code",
      "execution_count": null,
      "id": "e6bfe2b8",
      "metadata": {
        "id": "e6bfe2b8"
      },
      "outputs": [],
      "source": [
        "for ID in df[df['Occupation'] == \"_______\"]['Customer_ID'] :\n",
        "    oc = df[df['Customer_ID'] == ID]['Occupation'].mode()[0]\n",
        "    df[df['Customer_ID'] == ID] = df[df['Customer_ID'] == ID].replace(\"_______\",oc)"
      ]
    },
    {
      "cell_type": "code",
      "execution_count": null,
      "id": "835a0c29",
      "metadata": {
        "id": "835a0c29",
        "outputId": "efed1d21-a248-453c-d81a-c3e8bc43cb50"
      },
      "outputs": [
        {
          "data": {
            "text/plain": [
              "Lawyer           7096\n",
              "Engineer         6864\n",
              "Architect        6824\n",
              "Mechanic         6776\n",
              "Scientist        6744\n",
              "Accountant       6744\n",
              "Developer        6720\n",
              "Media_Manager    6715\n",
              "Teacher          6672\n",
              "Entrepreneur     6648\n",
              "Doctor           6568\n",
              "Journalist       6536\n",
              "Manager          6432\n",
              "Musician         6352\n",
              "Writer           6304\n",
              "_______             5\n",
              "Name: Occupation, dtype: int64"
            ]
          },
          "execution_count": 37,
          "metadata": {},
          "output_type": "execute_result"
        }
      ],
      "source": [
        "df['Occupation'].value_counts()"
      ]
    },
    {
      "cell_type": "code",
      "execution_count": null,
      "id": "ee05b815",
      "metadata": {
        "id": "ee05b815"
      },
      "outputs": [],
      "source": [
        "df['Occupation'] = df['Occupation'].replace(\"_______\",df['Occupation'].mode()[0])"
      ]
    },
    {
      "cell_type": "code",
      "execution_count": null,
      "id": "5238cd72",
      "metadata": {
        "id": "5238cd72",
        "outputId": "846a350a-3309-4747-a9c9-172eeee3eb1e"
      },
      "outputs": [
        {
          "data": {
            "text/plain": [
              "Lawyer           7101\n",
              "Engineer         6864\n",
              "Architect        6824\n",
              "Mechanic         6776\n",
              "Scientist        6744\n",
              "Accountant       6744\n",
              "Developer        6720\n",
              "Media_Manager    6715\n",
              "Teacher          6672\n",
              "Entrepreneur     6648\n",
              "Doctor           6568\n",
              "Journalist       6536\n",
              "Manager          6432\n",
              "Musician         6352\n",
              "Writer           6304\n",
              "Name: Occupation, dtype: int64"
            ]
          },
          "execution_count": 39,
          "metadata": {},
          "output_type": "execute_result"
        }
      ],
      "source": [
        "df['Occupation'].value_counts()"
      ]
    },
    {
      "cell_type": "markdown",
      "id": "4cdbd23b",
      "metadata": {
        "id": "4cdbd23b"
      },
      "source": [
        "#### Credit_Mix"
      ]
    },
    {
      "cell_type": "code",
      "execution_count": null,
      "id": "06c82e9e",
      "metadata": {
        "id": "06c82e9e",
        "outputId": "435b91d4-daa3-4e45-8735-6c8a193bc45e"
      },
      "outputs": [
        {
          "data": {
            "text/plain": [
              "Standard    36479\n",
              "Good        24337\n",
              "_           20195\n",
              "Bad         18989\n",
              "Name: Credit_Mix, dtype: int64"
            ]
          },
          "execution_count": 40,
          "metadata": {},
          "output_type": "execute_result"
        }
      ],
      "source": [
        "df['Credit_Mix'].value_counts()"
      ]
    },
    {
      "cell_type": "code",
      "execution_count": null,
      "id": "6abd5bc1",
      "metadata": {
        "id": "6abd5bc1"
      },
      "outputs": [],
      "source": [
        "m = {\n",
        "    \"Bad\":0,\n",
        "    \"Standard\":1,\n",
        "    \"Good\":2,\n",
        "    \"_\":np.nan\n",
        "}"
      ]
    },
    {
      "cell_type": "code",
      "execution_count": null,
      "id": "298abe51",
      "metadata": {
        "id": "298abe51"
      },
      "outputs": [],
      "source": [
        "df['Credit_Mix'] = df['Credit_Mix'].map(m)"
      ]
    },
    {
      "cell_type": "markdown",
      "id": "20db70f5",
      "metadata": {
        "id": "20db70f5"
      },
      "source": [
        "### Advanced Handling Missing Data"
      ]
    },
    {
      "cell_type": "code",
      "execution_count": null,
      "id": "c75b71ba",
      "metadata": {
        "id": "c75b71ba"
      },
      "outputs": [],
      "source": [
        "# Edit Columns from bool to int\n",
        "for col in list(df.columns[-8:]):\n",
        "    df[col] = df[col].astype(float)"
      ]
    },
    {
      "cell_type": "code",
      "execution_count": null,
      "id": "a3044d80",
      "metadata": {
        "id": "a3044d80"
      },
      "outputs": [],
      "source": [
        "IDs = 1\n",
        "for ID in df['Customer_ID'].unique() :\n",
        "    df['Customer_ID'] = df['Customer_ID'].replace(ID,IDs)\n",
        "    IDs += 1"
      ]
    },
    {
      "cell_type": "code",
      "execution_count": null,
      "id": "0f976a8c",
      "metadata": {
        "id": "0f976a8c"
      },
      "outputs": [],
      "source": [
        "from sklearn.impute import KNNImputer\n",
        "imputer = KNNImputer(n_neighbors=1)"
      ]
    },
    {
      "cell_type": "code",
      "execution_count": null,
      "id": "502e2a91",
      "metadata": {
        "id": "502e2a91",
        "outputId": "a9d3adda-c90a-44d5-dd22-fb67484228c5"
      },
      "outputs": [
        {
          "data": {
            "text/plain": [
              "Index(['Age', 'Annual_Income', 'Monthly_Inhand_Salary', 'Num_Bank_Accounts',\n",
              "       'Num_Credit_Card', 'Interest_Rate', 'Num_of_Loan',\n",
              "       'Delay_from_due_date', 'Num_of_Delayed_Payment', 'Changed_Credit_Limit',\n",
              "       'Num_Credit_Inquiries', 'Credit_Mix', 'Outstanding_Debt',\n",
              "       'Credit_Utilization_Ratio', 'Credit_History_Age', 'Total_EMI_per_month',\n",
              "       'Amount_invested_monthly', 'Monthly_Balance', 'Credit-Builder Loan',\n",
              "       'Personal Loan', 'Debt Consolidation Loan', 'Student Loan',\n",
              "       'Payday Loan', 'Mortgage Loan', 'Auto Loan', 'Home Equity Loan'],\n",
              "      dtype='object')"
            ]
          },
          "execution_count": 46,
          "metadata": {},
          "output_type": "execute_result"
        }
      ],
      "source": [
        "Numericals = df.select_dtypes(exclude='object').columns[1:]\n",
        "Numericals"
      ]
    },
    {
      "cell_type": "code",
      "execution_count": null,
      "id": "e42da101",
      "metadata": {
        "id": "e42da101"
      },
      "outputs": [],
      "source": [
        "for col in Numericals[1:]:\n",
        "    imputer.fit(df[['Customer_ID',col]])\n",
        "    df[['Customer_ID',col]] = imputer.transform(df[['Customer_ID',col]])"
      ]
    },
    {
      "cell_type": "code",
      "execution_count": null,
      "id": "8b991433",
      "metadata": {
        "id": "8b991433",
        "outputId": "7390e513-b52f-4078-87c8-a42409136dc4"
      },
      "outputs": [
        {
          "name": "stdout",
          "output_type": "stream",
          "text": [
            "<class 'pandas.core.frame.DataFrame'>\n",
            "RangeIndex: 100000 entries, 0 to 99999\n",
            "Data columns (total 32 columns):\n",
            " #   Column                    Non-Null Count   Dtype  \n",
            "---  ------                    --------------   -----  \n",
            " 0   Customer_ID               100000 non-null  float64\n",
            " 1   Month                     100000 non-null  object \n",
            " 2   Age                       100000 non-null  float64\n",
            " 3   Occupation                100000 non-null  object \n",
            " 4   Annual_Income             100000 non-null  float64\n",
            " 5   Monthly_Inhand_Salary     100000 non-null  float64\n",
            " 6   Num_Bank_Accounts         100000 non-null  float64\n",
            " 7   Num_Credit_Card           100000 non-null  float64\n",
            " 8   Interest_Rate             100000 non-null  float64\n",
            " 9   Num_of_Loan               100000 non-null  float64\n",
            " 10  Delay_from_due_date       100000 non-null  float64\n",
            " 11  Num_of_Delayed_Payment    100000 non-null  float64\n",
            " 12  Changed_Credit_Limit      100000 non-null  float64\n",
            " 13  Num_Credit_Inquiries      100000 non-null  float64\n",
            " 14  Credit_Mix                100000 non-null  float64\n",
            " 15  Outstanding_Debt          100000 non-null  float64\n",
            " 16  Credit_Utilization_Ratio  100000 non-null  float64\n",
            " 17  Credit_History_Age        100000 non-null  float64\n",
            " 18  Payment_of_Min_Amount     100000 non-null  object \n",
            " 19  Total_EMI_per_month       100000 non-null  float64\n",
            " 20  Amount_invested_monthly   100000 non-null  float64\n",
            " 21  Payment_Behaviour         92400 non-null   object \n",
            " 22  Monthly_Balance           100000 non-null  float64\n",
            " 23  Credit_Score              100000 non-null  object \n",
            " 24  Credit-Builder Loan       100000 non-null  float64\n",
            " 25  Personal Loan             100000 non-null  float64\n",
            " 26  Debt Consolidation Loan   100000 non-null  float64\n",
            " 27  Student Loan              100000 non-null  float64\n",
            " 28  Payday Loan               100000 non-null  float64\n",
            " 29  Mortgage Loan             100000 non-null  float64\n",
            " 30  Auto Loan                 100000 non-null  float64\n",
            " 31  Home Equity Loan          100000 non-null  float64\n",
            "dtypes: float64(27), object(5)\n",
            "memory usage: 24.4+ MB\n"
          ]
        }
      ],
      "source": [
        "df.info()"
      ]
    },
    {
      "cell_type": "code",
      "execution_count": null,
      "id": "b27ebf86",
      "metadata": {
        "id": "b27ebf86"
      },
      "outputs": [],
      "source": [
        "imputer = SimpleImputer(strategy=\"most_frequent\")\n",
        "imputer.fit(df[['Payment_Behaviour']])\n",
        "df[['Payment_Behaviour']] = imputer.transform(df[['Payment_Behaviour']])"
      ]
    },
    {
      "cell_type": "markdown",
      "id": "29f7d749",
      "metadata": {
        "id": "29f7d749"
      },
      "source": [
        "### Handling Outliers"
      ]
    },
    {
      "cell_type": "code",
      "execution_count": null,
      "id": "1cd58ab1",
      "metadata": {
        "id": "1cd58ab1"
      },
      "outputs": [],
      "source": [
        "## replace Outliers with median\n",
        "for col in Numericals :\n",
        "    outliers_indecies = detect_outliers(df,0,[col])\n",
        "    median = df[col].median()\n",
        "    df[col].iloc[outliers_indecies] = median"
      ]
    },
    {
      "cell_type": "markdown",
      "id": "02b84b4c",
      "metadata": {
        "id": "02b84b4c"
      },
      "source": [
        "# Data Preprocessing"
      ]
    },
    {
      "cell_type": "markdown",
      "id": "8d66fc95",
      "metadata": {
        "id": "8d66fc95"
      },
      "source": [
        "### Handling Catogerical"
      ]
    },
    {
      "cell_type": "code",
      "execution_count": null,
      "id": "c5608c8f",
      "metadata": {
        "id": "c5608c8f",
        "outputId": "84e1d290-3028-4120-8431-6312e41d3abb"
      },
      "outputs": [
        {
          "data": {
            "text/html": [
              "<div>\n",
              "<style scoped>\n",
              "    .dataframe tbody tr th:only-of-type {\n",
              "        vertical-align: middle;\n",
              "    }\n",
              "\n",
              "    .dataframe tbody tr th {\n",
              "        vertical-align: top;\n",
              "    }\n",
              "\n",
              "    .dataframe thead th {\n",
              "        text-align: right;\n",
              "    }\n",
              "</style>\n",
              "<table border=\"1\" class=\"dataframe\">\n",
              "  <thead>\n",
              "    <tr style=\"text-align: right;\">\n",
              "      <th></th>\n",
              "      <th>Month</th>\n",
              "      <th>Occupation</th>\n",
              "      <th>Payment_of_Min_Amount</th>\n",
              "      <th>Payment_Behaviour</th>\n",
              "      <th>Credit_Score</th>\n",
              "    </tr>\n",
              "  </thead>\n",
              "  <tbody>\n",
              "    <tr>\n",
              "      <th>0</th>\n",
              "      <td>January</td>\n",
              "      <td>Scientist</td>\n",
              "      <td>No</td>\n",
              "      <td>High_spent_Small_value_payments</td>\n",
              "      <td>Good</td>\n",
              "    </tr>\n",
              "    <tr>\n",
              "      <th>1</th>\n",
              "      <td>February</td>\n",
              "      <td>Scientist</td>\n",
              "      <td>No</td>\n",
              "      <td>Low_spent_Large_value_payments</td>\n",
              "      <td>Good</td>\n",
              "    </tr>\n",
              "    <tr>\n",
              "      <th>2</th>\n",
              "      <td>March</td>\n",
              "      <td>Scientist</td>\n",
              "      <td>No</td>\n",
              "      <td>Low_spent_Medium_value_payments</td>\n",
              "      <td>Good</td>\n",
              "    </tr>\n",
              "    <tr>\n",
              "      <th>3</th>\n",
              "      <td>April</td>\n",
              "      <td>Scientist</td>\n",
              "      <td>No</td>\n",
              "      <td>Low_spent_Small_value_payments</td>\n",
              "      <td>Good</td>\n",
              "    </tr>\n",
              "    <tr>\n",
              "      <th>4</th>\n",
              "      <td>May</td>\n",
              "      <td>Scientist</td>\n",
              "      <td>No</td>\n",
              "      <td>High_spent_Medium_value_payments</td>\n",
              "      <td>Good</td>\n",
              "    </tr>\n",
              "    <tr>\n",
              "      <th>...</th>\n",
              "      <td>...</td>\n",
              "      <td>...</td>\n",
              "      <td>...</td>\n",
              "      <td>...</td>\n",
              "      <td>...</td>\n",
              "    </tr>\n",
              "    <tr>\n",
              "      <th>99995</th>\n",
              "      <td>April</td>\n",
              "      <td>Mechanic</td>\n",
              "      <td>No</td>\n",
              "      <td>High_spent_Large_value_payments</td>\n",
              "      <td>Poor</td>\n",
              "    </tr>\n",
              "    <tr>\n",
              "      <th>99996</th>\n",
              "      <td>May</td>\n",
              "      <td>Mechanic</td>\n",
              "      <td>No</td>\n",
              "      <td>High_spent_Medium_value_payments</td>\n",
              "      <td>Poor</td>\n",
              "    </tr>\n",
              "    <tr>\n",
              "      <th>99997</th>\n",
              "      <td>June</td>\n",
              "      <td>Mechanic</td>\n",
              "      <td>No</td>\n",
              "      <td>High_spent_Large_value_payments</td>\n",
              "      <td>Poor</td>\n",
              "    </tr>\n",
              "    <tr>\n",
              "      <th>99998</th>\n",
              "      <td>July</td>\n",
              "      <td>Mechanic</td>\n",
              "      <td>No</td>\n",
              "      <td>Low_spent_Large_value_payments</td>\n",
              "      <td>Standard</td>\n",
              "    </tr>\n",
              "    <tr>\n",
              "      <th>99999</th>\n",
              "      <td>August</td>\n",
              "      <td>Mechanic</td>\n",
              "      <td>No</td>\n",
              "      <td>Low_spent_Small_value_payments</td>\n",
              "      <td>Poor</td>\n",
              "    </tr>\n",
              "  </tbody>\n",
              "</table>\n",
              "<p>100000 rows × 5 columns</p>\n",
              "</div>"
            ],
            "text/plain": [
              "          Month Occupation Payment_of_Min_Amount  \\\n",
              "0       January  Scientist                    No   \n",
              "1      February  Scientist                    No   \n",
              "2         March  Scientist                    No   \n",
              "3         April  Scientist                    No   \n",
              "4           May  Scientist                    No   \n",
              "...         ...        ...                   ...   \n",
              "99995     April   Mechanic                    No   \n",
              "99996       May   Mechanic                    No   \n",
              "99997      June   Mechanic                    No   \n",
              "99998      July   Mechanic                    No   \n",
              "99999    August   Mechanic                    No   \n",
              "\n",
              "                      Payment_Behaviour Credit_Score  \n",
              "0       High_spent_Small_value_payments         Good  \n",
              "1        Low_spent_Large_value_payments         Good  \n",
              "2       Low_spent_Medium_value_payments         Good  \n",
              "3        Low_spent_Small_value_payments         Good  \n",
              "4      High_spent_Medium_value_payments         Good  \n",
              "...                                 ...          ...  \n",
              "99995   High_spent_Large_value_payments         Poor  \n",
              "99996  High_spent_Medium_value_payments         Poor  \n",
              "99997   High_spent_Large_value_payments         Poor  \n",
              "99998    Low_spent_Large_value_payments     Standard  \n",
              "99999    Low_spent_Small_value_payments         Poor  \n",
              "\n",
              "[100000 rows x 5 columns]"
            ]
          },
          "execution_count": 51,
          "metadata": {},
          "output_type": "execute_result"
        }
      ],
      "source": [
        "df.select_dtypes(include=\"object\")"
      ]
    },
    {
      "cell_type": "code",
      "execution_count": null,
      "id": "ccb7779b",
      "metadata": {
        "id": "ccb7779b",
        "outputId": "d5aaade2-bccf-4529-bc6b-999ad633a9d7"
      },
      "outputs": [
        {
          "data": {
            "text/plain": [
              "Standard    53174\n",
              "Poor        28998\n",
              "Good        17828\n",
              "Name: Credit_Score, dtype: int64"
            ]
          },
          "execution_count": 52,
          "metadata": {},
          "output_type": "execute_result"
        }
      ],
      "source": [
        "df['Credit_Score'].value_counts()"
      ]
    },
    {
      "cell_type": "code",
      "execution_count": null,
      "id": "b6ac2580",
      "metadata": {
        "id": "b6ac2580"
      },
      "outputs": [],
      "source": [
        "m = {\n",
        "    \"Poor\":0,\n",
        "    \"Standard\":1,\n",
        "    \"Good\":2\n",
        "}"
      ]
    },
    {
      "cell_type": "code",
      "execution_count": null,
      "id": "8e275192",
      "metadata": {
        "id": "8e275192"
      },
      "outputs": [],
      "source": [
        "df['Credit_Score'] = df['Credit_Score'].map(m)"
      ]
    },
    {
      "cell_type": "code",
      "execution_count": null,
      "id": "ac144a23",
      "metadata": {
        "id": "ac144a23"
      },
      "outputs": [],
      "source": [
        "del df['Customer_ID']"
      ]
    },
    {
      "cell_type": "code",
      "execution_count": null,
      "id": "c4649040",
      "metadata": {
        "id": "c4649040"
      },
      "outputs": [],
      "source": [
        "df = pd.get_dummies(df,drop_first=True)"
      ]
    },
    {
      "cell_type": "code",
      "execution_count": 1,
      "id": "4c5d1308",
      "metadata": {
        "id": "4c5d1308",
        "outputId": "2abd2a07-4c1c-4ec9-9876-bf9c149acf11",
        "colab": {
          "base_uri": "https://localhost:8080/",
          "height": 141
        }
      },
      "outputs": [
        {
          "output_type": "error",
          "ename": "NameError",
          "evalue": "name 'df' is not defined",
          "traceback": [
            "\u001b[0;31m---------------------------------------------------------------------------\u001b[0m",
            "\u001b[0;31mNameError\u001b[0m                                 Traceback (most recent call last)",
            "\u001b[0;32m<ipython-input-1-a74c58233b9e>\u001b[0m in \u001b[0;36m<cell line: 1>\u001b[0;34m()\u001b[0m\n\u001b[0;32m----> 1\u001b[0;31m \u001b[0mdf\u001b[0m\u001b[0;34m.\u001b[0m\u001b[0minfo\u001b[0m\u001b[0;34m(\u001b[0m\u001b[0;34m)\u001b[0m\u001b[0;34m\u001b[0m\u001b[0;34m\u001b[0m\u001b[0m\n\u001b[0m",
            "\u001b[0;31mNameError\u001b[0m: name 'df' is not defined"
          ]
        }
      ],
      "source": [
        "df.info()"
      ]
    },
    {
      "cell_type": "code",
      "execution_count": null,
      "id": "e186a22d",
      "metadata": {
        "id": "e186a22d"
      },
      "outputs": [],
      "source": [
        "df.to_csv(\"Preprocessed_Data.csv\")"
      ]
    },
    {
      "cell_type": "code",
      "execution_count": null,
      "id": "07fee67d",
      "metadata": {
        "id": "07fee67d"
      },
      "outputs": [],
      "source": [
        "df = pd.read_csv(\"./Preprocessed_Data_train.csv\",low_memory=False)"
      ]
    },
    {
      "cell_type": "code",
      "execution_count": null,
      "id": "46649b17",
      "metadata": {
        "id": "46649b17",
        "outputId": "1b3725e5-1643-4f77-b762-741111988933"
      },
      "outputs": [
        {
          "data": {
            "text/html": [
              "<div>\n",
              "<style scoped>\n",
              "    .dataframe tbody tr th:only-of-type {\n",
              "        vertical-align: middle;\n",
              "    }\n",
              "\n",
              "    .dataframe tbody tr th {\n",
              "        vertical-align: top;\n",
              "    }\n",
              "\n",
              "    .dataframe thead th {\n",
              "        text-align: right;\n",
              "    }\n",
              "</style>\n",
              "<table border=\"1\" class=\"dataframe\">\n",
              "  <thead>\n",
              "    <tr style=\"text-align: right;\">\n",
              "      <th></th>\n",
              "      <th>Unnamed: 0</th>\n",
              "      <th>Age</th>\n",
              "      <th>Annual_Income</th>\n",
              "      <th>Monthly_Inhand_Salary</th>\n",
              "      <th>Num_Bank_Accounts</th>\n",
              "      <th>Num_Credit_Card</th>\n",
              "      <th>Interest_Rate</th>\n",
              "      <th>Num_of_Loan</th>\n",
              "      <th>Delay_from_due_date</th>\n",
              "      <th>Num_of_Delayed_Payment</th>\n",
              "      <th>...</th>\n",
              "      <th>Occupation_Musician</th>\n",
              "      <th>Occupation_Scientist</th>\n",
              "      <th>Occupation_Teacher</th>\n",
              "      <th>Occupation_Writer</th>\n",
              "      <th>Payment_of_Min_Amount_Yes</th>\n",
              "      <th>Payment_Behaviour_High_spent_Medium_value_payments</th>\n",
              "      <th>Payment_Behaviour_High_spent_Small_value_payments</th>\n",
              "      <th>Payment_Behaviour_Low_spent_Large_value_payments</th>\n",
              "      <th>Payment_Behaviour_Low_spent_Medium_value_payments</th>\n",
              "      <th>Payment_Behaviour_Low_spent_Small_value_payments</th>\n",
              "    </tr>\n",
              "  </thead>\n",
              "  <tbody>\n",
              "    <tr>\n",
              "      <th>77776</th>\n",
              "      <td>77776</td>\n",
              "      <td>47.0</td>\n",
              "      <td>103838.720</td>\n",
              "      <td>8605.226667</td>\n",
              "      <td>7.0</td>\n",
              "      <td>3.0</td>\n",
              "      <td>8.0</td>\n",
              "      <td>1.0</td>\n",
              "      <td>18.0</td>\n",
              "      <td>11.0</td>\n",
              "      <td>...</td>\n",
              "      <td>0</td>\n",
              "      <td>0</td>\n",
              "      <td>0</td>\n",
              "      <td>0</td>\n",
              "      <td>1</td>\n",
              "      <td>1</td>\n",
              "      <td>0</td>\n",
              "      <td>0</td>\n",
              "      <td>0</td>\n",
              "      <td>0</td>\n",
              "    </tr>\n",
              "    <tr>\n",
              "      <th>68840</th>\n",
              "      <td>68840</td>\n",
              "      <td>15.0</td>\n",
              "      <td>81475.280</td>\n",
              "      <td>6865.606667</td>\n",
              "      <td>6.0</td>\n",
              "      <td>3.0</td>\n",
              "      <td>17.0</td>\n",
              "      <td>0.0</td>\n",
              "      <td>24.0</td>\n",
              "      <td>19.0</td>\n",
              "      <td>...</td>\n",
              "      <td>0</td>\n",
              "      <td>0</td>\n",
              "      <td>1</td>\n",
              "      <td>0</td>\n",
              "      <td>1</td>\n",
              "      <td>0</td>\n",
              "      <td>0</td>\n",
              "      <td>0</td>\n",
              "      <td>1</td>\n",
              "      <td>0</td>\n",
              "    </tr>\n",
              "    <tr>\n",
              "      <th>76167</th>\n",
              "      <td>76167</td>\n",
              "      <td>38.0</td>\n",
              "      <td>12821.555</td>\n",
              "      <td>932.462917</td>\n",
              "      <td>4.0</td>\n",
              "      <td>7.0</td>\n",
              "      <td>16.0</td>\n",
              "      <td>4.0</td>\n",
              "      <td>27.0</td>\n",
              "      <td>22.0</td>\n",
              "      <td>...</td>\n",
              "      <td>1</td>\n",
              "      <td>0</td>\n",
              "      <td>0</td>\n",
              "      <td>0</td>\n",
              "      <td>1</td>\n",
              "      <td>0</td>\n",
              "      <td>0</td>\n",
              "      <td>0</td>\n",
              "      <td>0</td>\n",
              "      <td>1</td>\n",
              "    </tr>\n",
              "    <tr>\n",
              "      <th>15954</th>\n",
              "      <td>15954</td>\n",
              "      <td>21.0</td>\n",
              "      <td>50774.910</td>\n",
              "      <td>4431.242500</td>\n",
              "      <td>6.0</td>\n",
              "      <td>7.0</td>\n",
              "      <td>23.0</td>\n",
              "      <td>7.0</td>\n",
              "      <td>18.0</td>\n",
              "      <td>20.0</td>\n",
              "      <td>...</td>\n",
              "      <td>0</td>\n",
              "      <td>0</td>\n",
              "      <td>0</td>\n",
              "      <td>0</td>\n",
              "      <td>1</td>\n",
              "      <td>0</td>\n",
              "      <td>0</td>\n",
              "      <td>0</td>\n",
              "      <td>0</td>\n",
              "      <td>0</td>\n",
              "    </tr>\n",
              "    <tr>\n",
              "      <th>60709</th>\n",
              "      <td>60709</td>\n",
              "      <td>42.0</td>\n",
              "      <td>82928.040</td>\n",
              "      <td>7117.670000</td>\n",
              "      <td>7.0</td>\n",
              "      <td>4.0</td>\n",
              "      <td>16.0</td>\n",
              "      <td>3.0</td>\n",
              "      <td>21.0</td>\n",
              "      <td>10.0</td>\n",
              "      <td>...</td>\n",
              "      <td>0</td>\n",
              "      <td>0</td>\n",
              "      <td>0</td>\n",
              "      <td>0</td>\n",
              "      <td>1</td>\n",
              "      <td>0</td>\n",
              "      <td>0</td>\n",
              "      <td>0</td>\n",
              "      <td>1</td>\n",
              "      <td>0</td>\n",
              "    </tr>\n",
              "    <tr>\n",
              "      <th>19921</th>\n",
              "      <td>19921</td>\n",
              "      <td>26.0</td>\n",
              "      <td>8928.690</td>\n",
              "      <td>601.057500</td>\n",
              "      <td>9.0</td>\n",
              "      <td>10.0</td>\n",
              "      <td>16.0</td>\n",
              "      <td>5.0</td>\n",
              "      <td>18.0</td>\n",
              "      <td>13.0</td>\n",
              "      <td>...</td>\n",
              "      <td>0</td>\n",
              "      <td>1</td>\n",
              "      <td>0</td>\n",
              "      <td>0</td>\n",
              "      <td>1</td>\n",
              "      <td>0</td>\n",
              "      <td>0</td>\n",
              "      <td>0</td>\n",
              "      <td>0</td>\n",
              "      <td>1</td>\n",
              "    </tr>\n",
              "    <tr>\n",
              "      <th>1681</th>\n",
              "      <td>1681</td>\n",
              "      <td>26.0</td>\n",
              "      <td>96582.240</td>\n",
              "      <td>7886.520000</td>\n",
              "      <td>3.0</td>\n",
              "      <td>3.0</td>\n",
              "      <td>13.0</td>\n",
              "      <td>1.0</td>\n",
              "      <td>6.0</td>\n",
              "      <td>18.0</td>\n",
              "      <td>...</td>\n",
              "      <td>0</td>\n",
              "      <td>0</td>\n",
              "      <td>1</td>\n",
              "      <td>0</td>\n",
              "      <td>0</td>\n",
              "      <td>0</td>\n",
              "      <td>1</td>\n",
              "      <td>0</td>\n",
              "      <td>0</td>\n",
              "      <td>0</td>\n",
              "    </tr>\n",
              "    <tr>\n",
              "      <th>51661</th>\n",
              "      <td>51661</td>\n",
              "      <td>42.0</td>\n",
              "      <td>35758.390</td>\n",
              "      <td>3212.865833</td>\n",
              "      <td>3.0</td>\n",
              "      <td>3.0</td>\n",
              "      <td>15.0</td>\n",
              "      <td>3.0</td>\n",
              "      <td>31.0</td>\n",
              "      <td>17.0</td>\n",
              "      <td>...</td>\n",
              "      <td>0</td>\n",
              "      <td>0</td>\n",
              "      <td>0</td>\n",
              "      <td>0</td>\n",
              "      <td>1</td>\n",
              "      <td>1</td>\n",
              "      <td>0</td>\n",
              "      <td>0</td>\n",
              "      <td>0</td>\n",
              "      <td>0</td>\n",
              "    </tr>\n",
              "    <tr>\n",
              "      <th>34495</th>\n",
              "      <td>34495</td>\n",
              "      <td>22.0</td>\n",
              "      <td>20574.710</td>\n",
              "      <td>1813.559167</td>\n",
              "      <td>7.0</td>\n",
              "      <td>9.0</td>\n",
              "      <td>25.0</td>\n",
              "      <td>6.0</td>\n",
              "      <td>21.0</td>\n",
              "      <td>22.0</td>\n",
              "      <td>...</td>\n",
              "      <td>0</td>\n",
              "      <td>0</td>\n",
              "      <td>0</td>\n",
              "      <td>0</td>\n",
              "      <td>1</td>\n",
              "      <td>0</td>\n",
              "      <td>1</td>\n",
              "      <td>0</td>\n",
              "      <td>0</td>\n",
              "      <td>0</td>\n",
              "    </tr>\n",
              "    <tr>\n",
              "      <th>71557</th>\n",
              "      <td>71557</td>\n",
              "      <td>32.0</td>\n",
              "      <td>108223.710</td>\n",
              "      <td>7841.023964</td>\n",
              "      <td>1.0</td>\n",
              "      <td>7.0</td>\n",
              "      <td>2.0</td>\n",
              "      <td>1.0</td>\n",
              "      <td>5.0</td>\n",
              "      <td>10.0</td>\n",
              "      <td>...</td>\n",
              "      <td>0</td>\n",
              "      <td>0</td>\n",
              "      <td>0</td>\n",
              "      <td>0</td>\n",
              "      <td>0</td>\n",
              "      <td>0</td>\n",
              "      <td>0</td>\n",
              "      <td>0</td>\n",
              "      <td>1</td>\n",
              "      <td>0</td>\n",
              "    </tr>\n",
              "  </tbody>\n",
              "</table>\n",
              "<p>10 rows × 55 columns</p>\n",
              "</div>"
            ],
            "text/plain": [
              "       Unnamed: 0   Age  Annual_Income  Monthly_Inhand_Salary  \\\n",
              "77776       77776  47.0     103838.720            8605.226667   \n",
              "68840       68840  15.0      81475.280            6865.606667   \n",
              "76167       76167  38.0      12821.555             932.462917   \n",
              "15954       15954  21.0      50774.910            4431.242500   \n",
              "60709       60709  42.0      82928.040            7117.670000   \n",
              "19921       19921  26.0       8928.690             601.057500   \n",
              "1681         1681  26.0      96582.240            7886.520000   \n",
              "51661       51661  42.0      35758.390            3212.865833   \n",
              "34495       34495  22.0      20574.710            1813.559167   \n",
              "71557       71557  32.0     108223.710            7841.023964   \n",
              "\n",
              "       Num_Bank_Accounts  Num_Credit_Card  Interest_Rate  Num_of_Loan  \\\n",
              "77776                7.0              3.0            8.0          1.0   \n",
              "68840                6.0              3.0           17.0          0.0   \n",
              "76167                4.0              7.0           16.0          4.0   \n",
              "15954                6.0              7.0           23.0          7.0   \n",
              "60709                7.0              4.0           16.0          3.0   \n",
              "19921                9.0             10.0           16.0          5.0   \n",
              "1681                 3.0              3.0           13.0          1.0   \n",
              "51661                3.0              3.0           15.0          3.0   \n",
              "34495                7.0              9.0           25.0          6.0   \n",
              "71557                1.0              7.0            2.0          1.0   \n",
              "\n",
              "       Delay_from_due_date  Num_of_Delayed_Payment  ...  Occupation_Musician  \\\n",
              "77776                 18.0                    11.0  ...                    0   \n",
              "68840                 24.0                    19.0  ...                    0   \n",
              "76167                 27.0                    22.0  ...                    1   \n",
              "15954                 18.0                    20.0  ...                    0   \n",
              "60709                 21.0                    10.0  ...                    0   \n",
              "19921                 18.0                    13.0  ...                    0   \n",
              "1681                   6.0                    18.0  ...                    0   \n",
              "51661                 31.0                    17.0  ...                    0   \n",
              "34495                 21.0                    22.0  ...                    0   \n",
              "71557                  5.0                    10.0  ...                    0   \n",
              "\n",
              "       Occupation_Scientist  Occupation_Teacher  Occupation_Writer  \\\n",
              "77776                     0                   0                  0   \n",
              "68840                     0                   1                  0   \n",
              "76167                     0                   0                  0   \n",
              "15954                     0                   0                  0   \n",
              "60709                     0                   0                  0   \n",
              "19921                     1                   0                  0   \n",
              "1681                      0                   1                  0   \n",
              "51661                     0                   0                  0   \n",
              "34495                     0                   0                  0   \n",
              "71557                     0                   0                  0   \n",
              "\n",
              "       Payment_of_Min_Amount_Yes  \\\n",
              "77776                          1   \n",
              "68840                          1   \n",
              "76167                          1   \n",
              "15954                          1   \n",
              "60709                          1   \n",
              "19921                          1   \n",
              "1681                           0   \n",
              "51661                          1   \n",
              "34495                          1   \n",
              "71557                          0   \n",
              "\n",
              "       Payment_Behaviour_High_spent_Medium_value_payments  \\\n",
              "77776                                                  1    \n",
              "68840                                                  0    \n",
              "76167                                                  0    \n",
              "15954                                                  0    \n",
              "60709                                                  0    \n",
              "19921                                                  0    \n",
              "1681                                                   0    \n",
              "51661                                                  1    \n",
              "34495                                                  0    \n",
              "71557                                                  0    \n",
              "\n",
              "       Payment_Behaviour_High_spent_Small_value_payments  \\\n",
              "77776                                                  0   \n",
              "68840                                                  0   \n",
              "76167                                                  0   \n",
              "15954                                                  0   \n",
              "60709                                                  0   \n",
              "19921                                                  0   \n",
              "1681                                                   1   \n",
              "51661                                                  0   \n",
              "34495                                                  1   \n",
              "71557                                                  0   \n",
              "\n",
              "       Payment_Behaviour_Low_spent_Large_value_payments  \\\n",
              "77776                                                 0   \n",
              "68840                                                 0   \n",
              "76167                                                 0   \n",
              "15954                                                 0   \n",
              "60709                                                 0   \n",
              "19921                                                 0   \n",
              "1681                                                  0   \n",
              "51661                                                 0   \n",
              "34495                                                 0   \n",
              "71557                                                 0   \n",
              "\n",
              "       Payment_Behaviour_Low_spent_Medium_value_payments  \\\n",
              "77776                                                  0   \n",
              "68840                                                  1   \n",
              "76167                                                  0   \n",
              "15954                                                  0   \n",
              "60709                                                  1   \n",
              "19921                                                  0   \n",
              "1681                                                   0   \n",
              "51661                                                  0   \n",
              "34495                                                  0   \n",
              "71557                                                  1   \n",
              "\n",
              "       Payment_Behaviour_Low_spent_Small_value_payments  \n",
              "77776                                                 0  \n",
              "68840                                                 0  \n",
              "76167                                                 1  \n",
              "15954                                                 0  \n",
              "60709                                                 0  \n",
              "19921                                                 1  \n",
              "1681                                                  0  \n",
              "51661                                                 0  \n",
              "34495                                                 0  \n",
              "71557                                                 0  \n",
              "\n",
              "[10 rows x 55 columns]"
            ]
          },
          "execution_count": 206,
          "metadata": {},
          "output_type": "execute_result"
        }
      ],
      "source": [
        "df.sample(10)"
      ]
    },
    {
      "cell_type": "code",
      "execution_count": null,
      "id": "ac6e236f",
      "metadata": {
        "id": "ac6e236f"
      },
      "outputs": [],
      "source": [
        "new_df = df[best_features_fscore.tolist()+[\"Credit_Score\"]]"
      ]
    },
    {
      "cell_type": "code",
      "execution_count": null,
      "id": "007e4af9",
      "metadata": {
        "id": "007e4af9",
        "outputId": "1ef7dd78-95d8-4a60-a011-f14fc1b904ca"
      },
      "outputs": [
        {
          "data": {
            "text/html": [
              "<div>\n",
              "<style scoped>\n",
              "    .dataframe tbody tr th:only-of-type {\n",
              "        vertical-align: middle;\n",
              "    }\n",
              "\n",
              "    .dataframe tbody tr th {\n",
              "        vertical-align: top;\n",
              "    }\n",
              "\n",
              "    .dataframe thead th {\n",
              "        text-align: right;\n",
              "    }\n",
              "</style>\n",
              "<table border=\"1\" class=\"dataframe\">\n",
              "  <thead>\n",
              "    <tr style=\"text-align: right;\">\n",
              "      <th></th>\n",
              "      <th>Credit_Mix</th>\n",
              "      <th>Interest_Rate</th>\n",
              "      <th>Occupation_Writer</th>\n",
              "      <th>Num_Credit_Inquiries</th>\n",
              "      <th>Delay_from_due_date</th>\n",
              "      <th>Num_Bank_Accounts</th>\n",
              "      <th>Credit_History_Age</th>\n",
              "      <th>Num_Credit_Card</th>\n",
              "      <th>Num_of_Delayed_Payment</th>\n",
              "      <th>Outstanding_Debt</th>\n",
              "      <th>Credit_Score</th>\n",
              "    </tr>\n",
              "  </thead>\n",
              "  <tbody>\n",
              "    <tr>\n",
              "      <th>0</th>\n",
              "      <td>2.0</td>\n",
              "      <td>3.0</td>\n",
              "      <td>0</td>\n",
              "      <td>4.0</td>\n",
              "      <td>3.0</td>\n",
              "      <td>3.0</td>\n",
              "      <td>265.0</td>\n",
              "      <td>4.0</td>\n",
              "      <td>7.0</td>\n",
              "      <td>809.98</td>\n",
              "      <td>2</td>\n",
              "    </tr>\n",
              "    <tr>\n",
              "      <th>1</th>\n",
              "      <td>2.0</td>\n",
              "      <td>3.0</td>\n",
              "      <td>0</td>\n",
              "      <td>4.0</td>\n",
              "      <td>-1.0</td>\n",
              "      <td>3.0</td>\n",
              "      <td>265.0</td>\n",
              "      <td>4.0</td>\n",
              "      <td>7.0</td>\n",
              "      <td>809.98</td>\n",
              "      <td>2</td>\n",
              "    </tr>\n",
              "    <tr>\n",
              "      <th>2</th>\n",
              "      <td>2.0</td>\n",
              "      <td>3.0</td>\n",
              "      <td>0</td>\n",
              "      <td>4.0</td>\n",
              "      <td>3.0</td>\n",
              "      <td>3.0</td>\n",
              "      <td>267.0</td>\n",
              "      <td>4.0</td>\n",
              "      <td>7.0</td>\n",
              "      <td>809.98</td>\n",
              "      <td>2</td>\n",
              "    </tr>\n",
              "    <tr>\n",
              "      <th>3</th>\n",
              "      <td>2.0</td>\n",
              "      <td>3.0</td>\n",
              "      <td>0</td>\n",
              "      <td>4.0</td>\n",
              "      <td>5.0</td>\n",
              "      <td>3.0</td>\n",
              "      <td>268.0</td>\n",
              "      <td>4.0</td>\n",
              "      <td>4.0</td>\n",
              "      <td>809.98</td>\n",
              "      <td>2</td>\n",
              "    </tr>\n",
              "    <tr>\n",
              "      <th>4</th>\n",
              "      <td>2.0</td>\n",
              "      <td>3.0</td>\n",
              "      <td>0</td>\n",
              "      <td>4.0</td>\n",
              "      <td>6.0</td>\n",
              "      <td>3.0</td>\n",
              "      <td>269.0</td>\n",
              "      <td>4.0</td>\n",
              "      <td>7.0</td>\n",
              "      <td>809.98</td>\n",
              "      <td>2</td>\n",
              "    </tr>\n",
              "    <tr>\n",
              "      <th>...</th>\n",
              "      <td>...</td>\n",
              "      <td>...</td>\n",
              "      <td>...</td>\n",
              "      <td>...</td>\n",
              "      <td>...</td>\n",
              "      <td>...</td>\n",
              "      <td>...</td>\n",
              "      <td>...</td>\n",
              "      <td>...</td>\n",
              "      <td>...</td>\n",
              "      <td>...</td>\n",
              "    </tr>\n",
              "    <tr>\n",
              "      <th>99995</th>\n",
              "      <td>2.0</td>\n",
              "      <td>7.0</td>\n",
              "      <td>0</td>\n",
              "      <td>3.0</td>\n",
              "      <td>23.0</td>\n",
              "      <td>4.0</td>\n",
              "      <td>378.0</td>\n",
              "      <td>6.0</td>\n",
              "      <td>7.0</td>\n",
              "      <td>502.38</td>\n",
              "      <td>0</td>\n",
              "    </tr>\n",
              "    <tr>\n",
              "      <th>99996</th>\n",
              "      <td>2.0</td>\n",
              "      <td>7.0</td>\n",
              "      <td>0</td>\n",
              "      <td>3.0</td>\n",
              "      <td>18.0</td>\n",
              "      <td>4.0</td>\n",
              "      <td>379.0</td>\n",
              "      <td>6.0</td>\n",
              "      <td>7.0</td>\n",
              "      <td>502.38</td>\n",
              "      <td>0</td>\n",
              "    </tr>\n",
              "    <tr>\n",
              "      <th>99997</th>\n",
              "      <td>2.0</td>\n",
              "      <td>13.0</td>\n",
              "      <td>0</td>\n",
              "      <td>3.0</td>\n",
              "      <td>27.0</td>\n",
              "      <td>4.0</td>\n",
              "      <td>380.0</td>\n",
              "      <td>6.0</td>\n",
              "      <td>6.0</td>\n",
              "      <td>502.38</td>\n",
              "      <td>0</td>\n",
              "    </tr>\n",
              "    <tr>\n",
              "      <th>99998</th>\n",
              "      <td>2.0</td>\n",
              "      <td>7.0</td>\n",
              "      <td>0</td>\n",
              "      <td>3.0</td>\n",
              "      <td>20.0</td>\n",
              "      <td>4.0</td>\n",
              "      <td>381.0</td>\n",
              "      <td>6.0</td>\n",
              "      <td>6.0</td>\n",
              "      <td>502.38</td>\n",
              "      <td>1</td>\n",
              "    </tr>\n",
              "    <tr>\n",
              "      <th>99999</th>\n",
              "      <td>2.0</td>\n",
              "      <td>7.0</td>\n",
              "      <td>0</td>\n",
              "      <td>3.0</td>\n",
              "      <td>18.0</td>\n",
              "      <td>4.0</td>\n",
              "      <td>382.0</td>\n",
              "      <td>6.0</td>\n",
              "      <td>6.0</td>\n",
              "      <td>502.38</td>\n",
              "      <td>0</td>\n",
              "    </tr>\n",
              "  </tbody>\n",
              "</table>\n",
              "<p>100000 rows × 11 columns</p>\n",
              "</div>"
            ],
            "text/plain": [
              "       Credit_Mix  Interest_Rate  Occupation_Writer  Num_Credit_Inquiries  \\\n",
              "0             2.0            3.0                  0                   4.0   \n",
              "1             2.0            3.0                  0                   4.0   \n",
              "2             2.0            3.0                  0                   4.0   \n",
              "3             2.0            3.0                  0                   4.0   \n",
              "4             2.0            3.0                  0                   4.0   \n",
              "...           ...            ...                ...                   ...   \n",
              "99995         2.0            7.0                  0                   3.0   \n",
              "99996         2.0            7.0                  0                   3.0   \n",
              "99997         2.0           13.0                  0                   3.0   \n",
              "99998         2.0            7.0                  0                   3.0   \n",
              "99999         2.0            7.0                  0                   3.0   \n",
              "\n",
              "       Delay_from_due_date  Num_Bank_Accounts  Credit_History_Age  \\\n",
              "0                      3.0                3.0               265.0   \n",
              "1                     -1.0                3.0               265.0   \n",
              "2                      3.0                3.0               267.0   \n",
              "3                      5.0                3.0               268.0   \n",
              "4                      6.0                3.0               269.0   \n",
              "...                    ...                ...                 ...   \n",
              "99995                 23.0                4.0               378.0   \n",
              "99996                 18.0                4.0               379.0   \n",
              "99997                 27.0                4.0               380.0   \n",
              "99998                 20.0                4.0               381.0   \n",
              "99999                 18.0                4.0               382.0   \n",
              "\n",
              "       Num_Credit_Card  Num_of_Delayed_Payment  Outstanding_Debt  Credit_Score  \n",
              "0                  4.0                     7.0            809.98             2  \n",
              "1                  4.0                     7.0            809.98             2  \n",
              "2                  4.0                     7.0            809.98             2  \n",
              "3                  4.0                     4.0            809.98             2  \n",
              "4                  4.0                     7.0            809.98             2  \n",
              "...                ...                     ...               ...           ...  \n",
              "99995              6.0                     7.0            502.38             0  \n",
              "99996              6.0                     7.0            502.38             0  \n",
              "99997              6.0                     6.0            502.38             0  \n",
              "99998              6.0                     6.0            502.38             1  \n",
              "99999              6.0                     6.0            502.38             0  \n",
              "\n",
              "[100000 rows x 11 columns]"
            ]
          },
          "execution_count": 220,
          "metadata": {},
          "output_type": "execute_result"
        }
      ],
      "source": [
        "new_df"
      ]
    },
    {
      "cell_type": "markdown",
      "id": "9ebe6f56",
      "metadata": {
        "id": "9ebe6f56"
      },
      "source": [
        "### Data Spliting\n",
        "- Try Resampling"
      ]
    },
    {
      "cell_type": "code",
      "execution_count": null,
      "id": "9a3c8076",
      "metadata": {
        "id": "9a3c8076"
      },
      "outputs": [],
      "source": [
        "# define dataset\n",
        "X, y = new_df.drop(\"Credit_Score\",axis=1).values , df[\"Credit_Score\"]"
      ]
    },
    {
      "cell_type": "markdown",
      "id": "e664ac3c",
      "metadata": {
        "id": "e664ac3c"
      },
      "source": [
        "## Apply oversampling\n",
        "- Data is Not 100% balanced, Let's try improving it."
      ]
    },
    {
      "cell_type": "code",
      "execution_count": null,
      "id": "486f90d1",
      "metadata": {
        "id": "486f90d1",
        "outputId": "875d8d53-b6a9-417e-e66d-f17250060dc4"
      },
      "outputs": [
        {
          "data": {
            "text/plain": [
              "1    0.53174\n",
              "0    0.28998\n",
              "2    0.17828\n",
              "Name: Credit_Score, dtype: float64"
            ]
          },
          "execution_count": 247,
          "metadata": {},
          "output_type": "execute_result"
        }
      ],
      "source": [
        "y.value_counts(normalize=True)"
      ]
    },
    {
      "cell_type": "code",
      "execution_count": null,
      "id": "c6070e5c",
      "metadata": {
        "id": "c6070e5c"
      },
      "outputs": [],
      "source": [
        "from imblearn.over_sampling import SMOTE\n",
        "rus = SMOTE(sampling_strategy='auto')\n",
        "X_data_rus, y_data_rus = rus.fit_resample(X, y)"
      ]
    },
    {
      "cell_type": "code",
      "execution_count": null,
      "id": "be85167a",
      "metadata": {
        "id": "be85167a",
        "outputId": "855d14f0-2d09-4971-833b-62733a9ec3dc"
      },
      "outputs": [
        {
          "data": {
            "text/plain": [
              "2    0.333333\n",
              "1    0.333333\n",
              "0    0.333333\n",
              "Name: Credit_Score, dtype: float64"
            ]
          },
          "execution_count": 249,
          "metadata": {},
          "output_type": "execute_result"
        }
      ],
      "source": [
        "y_data_rus.value_counts(normalize=True)"
      ]
    },
    {
      "cell_type": "code",
      "execution_count": null,
      "id": "6df7be68",
      "metadata": {
        "id": "6df7be68"
      },
      "outputs": [],
      "source": [
        "# split into train and test sets\n",
        "X_train, X_test, y_train, y_test = train_test_split(X_data_rus, y_data_rus, test_size=0.3, random_state=42,stratify=y_data_rus)"
      ]
    },
    {
      "cell_type": "markdown",
      "id": "0c16a62e",
      "metadata": {
        "id": "0c16a62e"
      },
      "source": [
        "### Handling Numerical\n",
        "- Using Power transformer to avoid Data Skewness"
      ]
    },
    {
      "cell_type": "code",
      "execution_count": null,
      "id": "e2147375",
      "metadata": {
        "id": "e2147375"
      },
      "outputs": [],
      "source": [
        "scalar = PowerTransformer(method='yeo-johnson', standardize=True).fit(X_train)"
      ]
    },
    {
      "cell_type": "code",
      "execution_count": null,
      "id": "39258e01",
      "metadata": {
        "id": "39258e01"
      },
      "outputs": [],
      "source": [
        "X_train = scalar.transform(X_train)\n",
        "X_test = scalar.transform(X_test)"
      ]
    },
    {
      "cell_type": "markdown",
      "id": "ea707c27",
      "metadata": {
        "id": "ea707c27"
      },
      "source": [
        "# Modeling and Evaluation\n"
      ]
    },
    {
      "cell_type": "markdown",
      "id": "932e3d06",
      "metadata": {
        "id": "932e3d06"
      },
      "source": [
        "#### Model Building"
      ]
    },
    {
      "cell_type": "code",
      "execution_count": null,
      "id": "ffc045c1",
      "metadata": {
        "id": "ffc045c1"
      },
      "outputs": [],
      "source": [
        "bagging = BaggingClassifier(n_jobs=-1)\n",
        "extraTrees = ExtraTreesClassifier(max_depth=10, n_jobs=-1)\n",
        "randomForest = RandomForestClassifier(n_jobs=-1)\n",
        "histGradientBoosting = HistGradientBoostingClassifier()\n",
        "XGB = XGBClassifier(n_jobs=-1)\n",
        "\n",
        "model = StackingClassifier([\n",
        "    ('bagging', bagging),\n",
        "    ('extraTress', extraTrees),\n",
        "    ('randomforest', randomForest),\n",
        "    ('histGradientBoosting', histGradientBoosting),\n",
        "    ('XGB', XGB)\n",
        "], n_jobs=-1)"
      ]
    },
    {
      "cell_type": "markdown",
      "id": "eb4d422d",
      "metadata": {
        "id": "eb4d422d"
      },
      "source": [
        "#### Model fitting"
      ]
    },
    {
      "cell_type": "code",
      "execution_count": null,
      "id": "138cc0b0",
      "metadata": {
        "id": "138cc0b0",
        "outputId": "084e7dbd-a905-4c66-f4bc-215655dd16b4"
      },
      "outputs": [
        {
          "name": "stderr",
          "output_type": "stream",
          "text": [
            "[13:39:41] WARNING: ../src/learner.cc:1115: Starting in XGBoost 1.3.0, the default evaluation metric used with the objective 'multi:softprob' was changed from 'merror' to 'mlogloss'. Explicitly set eval_metric if you'd like to restore the old behavior.\n",
            "[13:39:41] WARNING: ../src/learner.cc:1115: Starting in XGBoost 1.3.0, the default evaluation metric used with the objective 'multi:softprob' was changed from 'merror' to 'mlogloss'. Explicitly set eval_metric if you'd like to restore the old behavior.\n",
            "[13:39:41] WARNING: ../src/learner.cc:1115: Starting in XGBoost 1.3.0, the default evaluation metric used with the objective 'multi:softprob' was changed from 'merror' to 'mlogloss'. Explicitly set eval_metric if you'd like to restore the old behavior.\n",
            "[13:39:41] WARNING: ../src/learner.cc:1115: Starting in XGBoost 1.3.0, the default evaluation metric used with the objective 'multi:softprob' was changed from 'merror' to 'mlogloss'. Explicitly set eval_metric if you'd like to restore the old behavior.\n",
            "[13:39:41] WARNING: ../src/learner.cc:1115: Starting in XGBoost 1.3.0, the default evaluation metric used with the objective 'multi:softprob' was changed from 'merror' to 'mlogloss'. Explicitly set eval_metric if you'd like to restore the old behavior.\n"
          ]
        },
        {
          "data": {
            "text/html": [
              "<style>#sk-container-id-1 {color: black;background-color: white;}#sk-container-id-1 pre{padding: 0;}#sk-container-id-1 div.sk-toggleable {background-color: white;}#sk-container-id-1 label.sk-toggleable__label {cursor: pointer;display: block;width: 100%;margin-bottom: 0;padding: 0.3em;box-sizing: border-box;text-align: center;}#sk-container-id-1 label.sk-toggleable__label-arrow:before {content: \"▸\";float: left;margin-right: 0.25em;color: #696969;}#sk-container-id-1 label.sk-toggleable__label-arrow:hover:before {color: black;}#sk-container-id-1 div.sk-estimator:hover label.sk-toggleable__label-arrow:before {color: black;}#sk-container-id-1 div.sk-toggleable__content {max-height: 0;max-width: 0;overflow: hidden;text-align: left;background-color: #f0f8ff;}#sk-container-id-1 div.sk-toggleable__content pre {margin: 0.2em;color: black;border-radius: 0.25em;background-color: #f0f8ff;}#sk-container-id-1 input.sk-toggleable__control:checked~div.sk-toggleable__content {max-height: 200px;max-width: 100%;overflow: auto;}#sk-container-id-1 input.sk-toggleable__control:checked~label.sk-toggleable__label-arrow:before {content: \"▾\";}#sk-container-id-1 div.sk-estimator input.sk-toggleable__control:checked~label.sk-toggleable__label {background-color: #d4ebff;}#sk-container-id-1 div.sk-label input.sk-toggleable__control:checked~label.sk-toggleable__label {background-color: #d4ebff;}#sk-container-id-1 input.sk-hidden--visually {border: 0;clip: rect(1px 1px 1px 1px);clip: rect(1px, 1px, 1px, 1px);height: 1px;margin: -1px;overflow: hidden;padding: 0;position: absolute;width: 1px;}#sk-container-id-1 div.sk-estimator {font-family: monospace;background-color: #f0f8ff;border: 1px dotted black;border-radius: 0.25em;box-sizing: border-box;margin-bottom: 0.5em;}#sk-container-id-1 div.sk-estimator:hover {background-color: #d4ebff;}#sk-container-id-1 div.sk-parallel-item::after {content: \"\";width: 100%;border-bottom: 1px solid gray;flex-grow: 1;}#sk-container-id-1 div.sk-label:hover label.sk-toggleable__label {background-color: #d4ebff;}#sk-container-id-1 div.sk-serial::before {content: \"\";position: absolute;border-left: 1px solid gray;box-sizing: border-box;top: 0;bottom: 0;left: 50%;z-index: 0;}#sk-container-id-1 div.sk-serial {display: flex;flex-direction: column;align-items: center;background-color: white;padding-right: 0.2em;padding-left: 0.2em;position: relative;}#sk-container-id-1 div.sk-item {position: relative;z-index: 1;}#sk-container-id-1 div.sk-parallel {display: flex;align-items: stretch;justify-content: center;background-color: white;position: relative;}#sk-container-id-1 div.sk-item::before, #sk-container-id-1 div.sk-parallel-item::before {content: \"\";position: absolute;border-left: 1px solid gray;box-sizing: border-box;top: 0;bottom: 0;left: 50%;z-index: -1;}#sk-container-id-1 div.sk-parallel-item {display: flex;flex-direction: column;z-index: 1;position: relative;background-color: white;}#sk-container-id-1 div.sk-parallel-item:first-child::after {align-self: flex-end;width: 50%;}#sk-container-id-1 div.sk-parallel-item:last-child::after {align-self: flex-start;width: 50%;}#sk-container-id-1 div.sk-parallel-item:only-child::after {width: 0;}#sk-container-id-1 div.sk-dashed-wrapped {border: 1px dashed gray;margin: 0 0.4em 0.5em 0.4em;box-sizing: border-box;padding-bottom: 0.4em;background-color: white;}#sk-container-id-1 div.sk-label label {font-family: monospace;font-weight: bold;display: inline-block;line-height: 1.2em;}#sk-container-id-1 div.sk-label-container {text-align: center;}#sk-container-id-1 div.sk-container {/* jupyter's `normalize.less` sets `[hidden] { display: none; }` but bootstrap.min.css set `[hidden] { display: none !important; }` so we also need the `!important` here to be able to override the default hidden behavior on the sphinx rendered scikit-learn.org. See: https://github.com/scikit-learn/scikit-learn/issues/21755 */display: inline-block !important;position: relative;}#sk-container-id-1 div.sk-text-repr-fallback {display: none;}</style><div id=\"sk-container-id-1\" class=\"sk-top-container\"><div class=\"sk-text-repr-fallback\"><pre>StackingClassifier(estimators=[(&#x27;bagging&#x27;, BaggingClassifier(n_jobs=-1)),\n",
              "                               (&#x27;extraTress&#x27;,\n",
              "                                ExtraTreesClassifier(max_depth=10, n_jobs=-1)),\n",
              "                               (&#x27;randomforest&#x27;,\n",
              "                                RandomForestClassifier(n_jobs=-1)),\n",
              "                               (&#x27;histGradientBoosting&#x27;,\n",
              "                                HistGradientBoostingClassifier()),\n",
              "                               (&#x27;XGB&#x27;,\n",
              "                                XGBClassifier(base_score=None, booster=None,\n",
              "                                              colsample_bylevel=None,\n",
              "                                              colsample_bynode=None,\n",
              "                                              colsample_bytr...\n",
              "                                              interaction_constraints=None,\n",
              "                                              learning_rate=None,\n",
              "                                              max_delta_step=None,\n",
              "                                              max_depth=None,\n",
              "                                              min_child_weight=None,\n",
              "                                              missing=nan,\n",
              "                                              monotone_constraints=None,\n",
              "                                              n_estimators=100, n_jobs=-1,\n",
              "                                              num_parallel_tree=None,\n",
              "                                              predictor=None, random_state=None,\n",
              "                                              reg_alpha=None, reg_lambda=None,\n",
              "                                              scale_pos_weight=None,\n",
              "                                              subsample=None, tree_method=None,\n",
              "                                              validate_parameters=None,\n",
              "                                              verbosity=None))],\n",
              "                   n_jobs=-1)</pre><b>In a Jupyter environment, please rerun this cell to show the HTML representation or trust the notebook. <br />On GitHub, the HTML representation is unable to render, please try loading this page with nbviewer.org.</b></div><div class=\"sk-container\" hidden><div class=\"sk-item sk-dashed-wrapped\"><div class=\"sk-label-container\"><div class=\"sk-label sk-toggleable\"><input class=\"sk-toggleable__control sk-hidden--visually\" id=\"sk-estimator-id-1\" type=\"checkbox\" ><label for=\"sk-estimator-id-1\" class=\"sk-toggleable__label sk-toggleable__label-arrow\">StackingClassifier</label><div class=\"sk-toggleable__content\"><pre>StackingClassifier(estimators=[(&#x27;bagging&#x27;, BaggingClassifier(n_jobs=-1)),\n",
              "                               (&#x27;extraTress&#x27;,\n",
              "                                ExtraTreesClassifier(max_depth=10, n_jobs=-1)),\n",
              "                               (&#x27;randomforest&#x27;,\n",
              "                                RandomForestClassifier(n_jobs=-1)),\n",
              "                               (&#x27;histGradientBoosting&#x27;,\n",
              "                                HistGradientBoostingClassifier()),\n",
              "                               (&#x27;XGB&#x27;,\n",
              "                                XGBClassifier(base_score=None, booster=None,\n",
              "                                              colsample_bylevel=None,\n",
              "                                              colsample_bynode=None,\n",
              "                                              colsample_bytr...\n",
              "                                              interaction_constraints=None,\n",
              "                                              learning_rate=None,\n",
              "                                              max_delta_step=None,\n",
              "                                              max_depth=None,\n",
              "                                              min_child_weight=None,\n",
              "                                              missing=nan,\n",
              "                                              monotone_constraints=None,\n",
              "                                              n_estimators=100, n_jobs=-1,\n",
              "                                              num_parallel_tree=None,\n",
              "                                              predictor=None, random_state=None,\n",
              "                                              reg_alpha=None, reg_lambda=None,\n",
              "                                              scale_pos_weight=None,\n",
              "                                              subsample=None, tree_method=None,\n",
              "                                              validate_parameters=None,\n",
              "                                              verbosity=None))],\n",
              "                   n_jobs=-1)</pre></div></div></div><div class=\"sk-serial\"><div class=\"sk-item\"><div class=\"sk-parallel\"><div class=\"sk-parallel-item\"><div class=\"sk-item\"><div class=\"sk-label-container\"><div class=\"sk-label sk-toggleable\"><label>bagging</label></div></div><div class=\"sk-serial\"><div class=\"sk-item\"><div class=\"sk-estimator sk-toggleable\"><input class=\"sk-toggleable__control sk-hidden--visually\" id=\"sk-estimator-id-2\" type=\"checkbox\" ><label for=\"sk-estimator-id-2\" class=\"sk-toggleable__label sk-toggleable__label-arrow\">BaggingClassifier</label><div class=\"sk-toggleable__content\"><pre>BaggingClassifier(n_jobs=-1)</pre></div></div></div></div></div></div><div class=\"sk-parallel-item\"><div class=\"sk-item\"><div class=\"sk-label-container\"><div class=\"sk-label sk-toggleable\"><label>extraTress</label></div></div><div class=\"sk-serial\"><div class=\"sk-item\"><div class=\"sk-estimator sk-toggleable\"><input class=\"sk-toggleable__control sk-hidden--visually\" id=\"sk-estimator-id-3\" type=\"checkbox\" ><label for=\"sk-estimator-id-3\" class=\"sk-toggleable__label sk-toggleable__label-arrow\">ExtraTreesClassifier</label><div class=\"sk-toggleable__content\"><pre>ExtraTreesClassifier(max_depth=10, n_jobs=-1)</pre></div></div></div></div></div></div><div class=\"sk-parallel-item\"><div class=\"sk-item\"><div class=\"sk-label-container\"><div class=\"sk-label sk-toggleable\"><label>randomforest</label></div></div><div class=\"sk-serial\"><div class=\"sk-item\"><div class=\"sk-estimator sk-toggleable\"><input class=\"sk-toggleable__control sk-hidden--visually\" id=\"sk-estimator-id-4\" type=\"checkbox\" ><label for=\"sk-estimator-id-4\" class=\"sk-toggleable__label sk-toggleable__label-arrow\">RandomForestClassifier</label><div class=\"sk-toggleable__content\"><pre>RandomForestClassifier(n_jobs=-1)</pre></div></div></div></div></div></div><div class=\"sk-parallel-item\"><div class=\"sk-item\"><div class=\"sk-label-container\"><div class=\"sk-label sk-toggleable\"><label>histGradientBoosting</label></div></div><div class=\"sk-serial\"><div class=\"sk-item\"><div class=\"sk-estimator sk-toggleable\"><input class=\"sk-toggleable__control sk-hidden--visually\" id=\"sk-estimator-id-5\" type=\"checkbox\" ><label for=\"sk-estimator-id-5\" class=\"sk-toggleable__label sk-toggleable__label-arrow\">HistGradientBoostingClassifier</label><div class=\"sk-toggleable__content\"><pre>HistGradientBoostingClassifier()</pre></div></div></div></div></div></div><div class=\"sk-parallel-item\"><div class=\"sk-item\"><div class=\"sk-label-container\"><div class=\"sk-label sk-toggleable\"><label>XGB</label></div></div><div class=\"sk-serial\"><div class=\"sk-item\"><div class=\"sk-estimator sk-toggleable\"><input class=\"sk-toggleable__control sk-hidden--visually\" id=\"sk-estimator-id-6\" type=\"checkbox\" ><label for=\"sk-estimator-id-6\" class=\"sk-toggleable__label sk-toggleable__label-arrow\">XGBClassifier</label><div class=\"sk-toggleable__content\"><pre>XGBClassifier(base_score=None, booster=None, colsample_bylevel=None,\n",
              "              colsample_bynode=None, colsample_bytree=None,\n",
              "              enable_categorical=False, gamma=None, gpu_id=None,\n",
              "              importance_type=None, interaction_constraints=None,\n",
              "              learning_rate=None, max_delta_step=None, max_depth=None,\n",
              "              min_child_weight=None, missing=nan, monotone_constraints=None,\n",
              "              n_estimators=100, n_jobs=-1, num_parallel_tree=None,\n",
              "              predictor=None, random_state=None, reg_alpha=None,\n",
              "              reg_lambda=None, scale_pos_weight=None, subsample=None,\n",
              "              tree_method=None, validate_parameters=None, verbosity=None)</pre></div></div></div></div></div></div></div></div><div class=\"sk-item\"><div class=\"sk-parallel\"><div class=\"sk-parallel-item\"><div class=\"sk-item\"><div class=\"sk-label-container\"><div class=\"sk-label sk-toggleable\"><label>final_estimator</label></div></div><div class=\"sk-serial\"><div class=\"sk-item\"><div class=\"sk-estimator sk-toggleable\"><input class=\"sk-toggleable__control sk-hidden--visually\" id=\"sk-estimator-id-7\" type=\"checkbox\" ><label for=\"sk-estimator-id-7\" class=\"sk-toggleable__label sk-toggleable__label-arrow\">LogisticRegression</label><div class=\"sk-toggleable__content\"><pre>LogisticRegression()</pre></div></div></div></div></div></div></div></div></div></div></div></div>"
            ],
            "text/plain": [
              "StackingClassifier(estimators=[('bagging', BaggingClassifier(n_jobs=-1)),\n",
              "                               ('extraTress',\n",
              "                                ExtraTreesClassifier(max_depth=10, n_jobs=-1)),\n",
              "                               ('randomforest',\n",
              "                                RandomForestClassifier(n_jobs=-1)),\n",
              "                               ('histGradientBoosting',\n",
              "                                HistGradientBoostingClassifier()),\n",
              "                               ('XGB',\n",
              "                                XGBClassifier(base_score=None, booster=None,\n",
              "                                              colsample_bylevel=None,\n",
              "                                              colsample_bynode=None,\n",
              "                                              colsample_bytr...\n",
              "                                              interaction_constraints=None,\n",
              "                                              learning_rate=None,\n",
              "                                              max_delta_step=None,\n",
              "                                              max_depth=None,\n",
              "                                              min_child_weight=None,\n",
              "                                              missing=nan,\n",
              "                                              monotone_constraints=None,\n",
              "                                              n_estimators=100, n_jobs=-1,\n",
              "                                              num_parallel_tree=None,\n",
              "                                              predictor=None, random_state=None,\n",
              "                                              reg_alpha=None, reg_lambda=None,\n",
              "                                              scale_pos_weight=None,\n",
              "                                              subsample=None, tree_method=None,\n",
              "                                              validate_parameters=None,\n",
              "                                              verbosity=None))],\n",
              "                   n_jobs=-1)"
            ]
          },
          "execution_count": 70,
          "metadata": {},
          "output_type": "execute_result"
        }
      ],
      "source": [
        "model.fit(X_train, y_train)"
      ]
    },
    {
      "cell_type": "markdown",
      "id": "435cc2aa",
      "metadata": {
        "id": "435cc2aa"
      },
      "source": [
        "#### model evaluation"
      ]
    },
    {
      "cell_type": "code",
      "execution_count": null,
      "id": "b864bdb4",
      "metadata": {
        "id": "b864bdb4",
        "outputId": "5540b1bc-6cd7-4c7e-8725-3751c43b81dc"
      },
      "outputs": [
        {
          "name": "stderr",
          "output_type": "stream",
          "text": [
            "/usr/local/lib/python3.8/dist-packages/cudf/utils/gpu_utils.py:142: UserWarning: No NVIDIA GPU detected\n",
            "  warnings.warn(\"No NVIDIA GPU detected\")\n",
            "/usr/local/lib/python3.8/dist-packages/xgboost/sklearn.py:1224: UserWarning: The use of label encoder in XGBClassifier is deprecated and will be removed in a future release. To remove this warning, do the following: 1) Pass option use_label_encoder=False when constructing XGBClassifier object; and 2) Encode your labels (y) as integers starting with 0, i.e. 0, 1, 2, ..., [num_class - 1].\n",
            "  warnings.warn(label_encoder_deprecation_msg, UserWarning)\n",
            "/usr/local/lib/python3.8/dist-packages/cudf/utils/gpu_utils.py:142: UserWarning: No NVIDIA GPU detected\n",
            "  warnings.warn(\"No NVIDIA GPU detected\")\n",
            "/usr/local/lib/python3.8/dist-packages/xgboost/sklearn.py:1224: UserWarning: The use of label encoder in XGBClassifier is deprecated and will be removed in a future release. To remove this warning, do the following: 1) Pass option use_label_encoder=False when constructing XGBClassifier object; and 2) Encode your labels (y) as integers starting with 0, i.e. 0, 1, 2, ..., [num_class - 1].\n",
            "  warnings.warn(label_encoder_deprecation_msg, UserWarning)\n"
          ]
        },
        {
          "name": "stdout",
          "output_type": "stream",
          "text": [
            "[13:39:27] WARNING: ../src/learner.cc:1115: Starting in XGBoost 1.3.0, the default evaluation metric used with the objective 'multi:softprob' was changed from 'merror' to 'mlogloss'. Explicitly set eval_metric if you'd like to restore the old behavior.\n",
            "Train Score:  0.999131330318363\n"
          ]
        }
      ],
      "source": [
        "print(\"Train Score: \",model.score(X_train, y_train))"
      ]
    },
    {
      "cell_type": "code",
      "execution_count": null,
      "id": "0378bb06",
      "metadata": {
        "id": "0378bb06",
        "outputId": "62f1c2fe-3111-462a-c564-5344e63a00dd"
      },
      "outputs": [
        {
          "name": "stdout",
          "output_type": "stream",
          "text": [
            "Test Score:  0.8518085128612324\n"
          ]
        }
      ],
      "source": [
        "print(\"Test Score: \",model.score(X_test, y_test))"
      ]
    },
    {
      "cell_type": "code",
      "execution_count": null,
      "id": "3daf2d1d",
      "metadata": {
        "id": "3daf2d1d"
      },
      "outputs": [],
      "source": [
        "y_pred = model.predict(X_test)"
      ]
    },
    {
      "cell_type": "code",
      "execution_count": null,
      "id": "c7d74682",
      "metadata": {
        "id": "c7d74682",
        "outputId": "c696bab0-560a-46e6-83d6-9e0e5de009c3"
      },
      "outputs": [
        {
          "name": "stdout",
          "output_type": "stream",
          "text": [
            "              precision    recall  f1-score   support\n",
            "\n",
            "           0       0.85      0.87      0.86     15525\n",
            "           1       0.81      0.79      0.80     16267\n",
            "           2       0.90      0.89      0.90     16065\n",
            "\n",
            "    accuracy                           0.85     47857\n",
            "   macro avg       0.85      0.85      0.85     47857\n",
            "weighted avg       0.85      0.85      0.85     47857\n",
            "\n"
          ]
        }
      ],
      "source": [
        "print(classification_report(y_pred,y_test))"
      ]
    },
    {
      "cell_type": "markdown",
      "id": "50396cbb",
      "metadata": {
        "id": "50396cbb"
      },
      "source": [
        "#### model Saving"
      ]
    },
    {
      "cell_type": "code",
      "execution_count": null,
      "id": "e7cc5e15",
      "metadata": {
        "id": "e7cc5e15"
      },
      "outputs": [],
      "source": [
        "# joblib.dump(model,'model.h5')\n",
        "# joblib.dump(scalar,'scalar.h5')"
      ]
    },
    {
      "cell_type": "code",
      "execution_count": null,
      "id": "79f4d96e",
      "metadata": {
        "id": "79f4d96e"
      },
      "outputs": [],
      "source": [
        "model = RandomForestClassifier(random_state=1)\n"
      ]
    },
    {
      "cell_type": "code",
      "execution_count": null,
      "id": "8ae62c59",
      "metadata": {
        "id": "8ae62c59"
      },
      "outputs": [],
      "source": [
        "from sklearn.model_selection import cross_validate"
      ]
    },
    {
      "cell_type": "code",
      "execution_count": null,
      "id": "e98d6ad2",
      "metadata": {
        "id": "e98d6ad2"
      },
      "outputs": [],
      "source": [
        "cv = cross_validate(model, X_train, y_train, cv=5)"
      ]
    },
    {
      "cell_type": "code",
      "execution_count": null,
      "id": "35e3e8f6",
      "metadata": {
        "id": "35e3e8f6",
        "outputId": "9a3a4472-449f-41df-c0cc-1e78a51d39c5"
      },
      "outputs": [
        {
          "data": {
            "text/plain": [
              "{'fit_time': array([17.83295417, 17.8890276 , 17.93701029, 17.8236897 , 18.19042182]),\n",
              " 'score_time': array([0.32012701, 0.3191936 , 0.32034349, 0.31868505, 0.31586862]),\n",
              " 'test_score': array([0.82998254, 0.83092285, 0.82420633, 0.82837057, 0.83141539])}"
            ]
          },
          "execution_count": 82,
          "metadata": {},
          "output_type": "execute_result"
        }
      ],
      "source": [
        "cv"
      ]
    },
    {
      "cell_type": "code",
      "execution_count": null,
      "id": "a24d33da",
      "metadata": {
        "id": "a24d33da",
        "outputId": "eff130b4-d6c0-4fde-93ff-64dfcbcc227b"
      },
      "outputs": [
        {
          "name": "stdout",
          "output_type": "stream",
          "text": [
            "0.828979537008015\n"
          ]
        }
      ],
      "source": [
        "print(cv[\"test_score\"].mean())"
      ]
    },
    {
      "cell_type": "code",
      "execution_count": null,
      "id": "32f502ea",
      "metadata": {
        "id": "32f502ea",
        "outputId": "7fb23ffe-376d-45fb-a301-856a64dc85a2"
      },
      "outputs": [
        {
          "name": "stdout",
          "output_type": "stream",
          "text": [
            "Current Time = 14:47:31\n"
          ]
        }
      ],
      "source": [
        "from datetime import datetime\n",
        "\n",
        "now = datetime.now()\n",
        "\n",
        "current_time = now.strftime(\"%H:%M:%S\")\n",
        "print(\"Current Time =\", current_time)"
      ]
    },
    {
      "cell_type": "markdown",
      "id": "9ae17800",
      "metadata": {
        "id": "9ae17800"
      },
      "source": [
        "22:46"
      ]
    },
    {
      "cell_type": "code",
      "execution_count": null,
      "id": "163ba5d2",
      "metadata": {
        "id": "163ba5d2",
        "outputId": "3c6154eb-7885-4484-dd31-530f4bc1930f"
      },
      "outputs": [
        {
          "data": {
            "text/html": [
              "<style>#sk-container-id-2 {color: black;background-color: white;}#sk-container-id-2 pre{padding: 0;}#sk-container-id-2 div.sk-toggleable {background-color: white;}#sk-container-id-2 label.sk-toggleable__label {cursor: pointer;display: block;width: 100%;margin-bottom: 0;padding: 0.3em;box-sizing: border-box;text-align: center;}#sk-container-id-2 label.sk-toggleable__label-arrow:before {content: \"▸\";float: left;margin-right: 0.25em;color: #696969;}#sk-container-id-2 label.sk-toggleable__label-arrow:hover:before {color: black;}#sk-container-id-2 div.sk-estimator:hover label.sk-toggleable__label-arrow:before {color: black;}#sk-container-id-2 div.sk-toggleable__content {max-height: 0;max-width: 0;overflow: hidden;text-align: left;background-color: #f0f8ff;}#sk-container-id-2 div.sk-toggleable__content pre {margin: 0.2em;color: black;border-radius: 0.25em;background-color: #f0f8ff;}#sk-container-id-2 input.sk-toggleable__control:checked~div.sk-toggleable__content {max-height: 200px;max-width: 100%;overflow: auto;}#sk-container-id-2 input.sk-toggleable__control:checked~label.sk-toggleable__label-arrow:before {content: \"▾\";}#sk-container-id-2 div.sk-estimator input.sk-toggleable__control:checked~label.sk-toggleable__label {background-color: #d4ebff;}#sk-container-id-2 div.sk-label input.sk-toggleable__control:checked~label.sk-toggleable__label {background-color: #d4ebff;}#sk-container-id-2 input.sk-hidden--visually {border: 0;clip: rect(1px 1px 1px 1px);clip: rect(1px, 1px, 1px, 1px);height: 1px;margin: -1px;overflow: hidden;padding: 0;position: absolute;width: 1px;}#sk-container-id-2 div.sk-estimator {font-family: monospace;background-color: #f0f8ff;border: 1px dotted black;border-radius: 0.25em;box-sizing: border-box;margin-bottom: 0.5em;}#sk-container-id-2 div.sk-estimator:hover {background-color: #d4ebff;}#sk-container-id-2 div.sk-parallel-item::after {content: \"\";width: 100%;border-bottom: 1px solid gray;flex-grow: 1;}#sk-container-id-2 div.sk-label:hover label.sk-toggleable__label {background-color: #d4ebff;}#sk-container-id-2 div.sk-serial::before {content: \"\";position: absolute;border-left: 1px solid gray;box-sizing: border-box;top: 0;bottom: 0;left: 50%;z-index: 0;}#sk-container-id-2 div.sk-serial {display: flex;flex-direction: column;align-items: center;background-color: white;padding-right: 0.2em;padding-left: 0.2em;position: relative;}#sk-container-id-2 div.sk-item {position: relative;z-index: 1;}#sk-container-id-2 div.sk-parallel {display: flex;align-items: stretch;justify-content: center;background-color: white;position: relative;}#sk-container-id-2 div.sk-item::before, #sk-container-id-2 div.sk-parallel-item::before {content: \"\";position: absolute;border-left: 1px solid gray;box-sizing: border-box;top: 0;bottom: 0;left: 50%;z-index: -1;}#sk-container-id-2 div.sk-parallel-item {display: flex;flex-direction: column;z-index: 1;position: relative;background-color: white;}#sk-container-id-2 div.sk-parallel-item:first-child::after {align-self: flex-end;width: 50%;}#sk-container-id-2 div.sk-parallel-item:last-child::after {align-self: flex-start;width: 50%;}#sk-container-id-2 div.sk-parallel-item:only-child::after {width: 0;}#sk-container-id-2 div.sk-dashed-wrapped {border: 1px dashed gray;margin: 0 0.4em 0.5em 0.4em;box-sizing: border-box;padding-bottom: 0.4em;background-color: white;}#sk-container-id-2 div.sk-label label {font-family: monospace;font-weight: bold;display: inline-block;line-height: 1.2em;}#sk-container-id-2 div.sk-label-container {text-align: center;}#sk-container-id-2 div.sk-container {/* jupyter's `normalize.less` sets `[hidden] { display: none; }` but bootstrap.min.css set `[hidden] { display: none !important; }` so we also need the `!important` here to be able to override the default hidden behavior on the sphinx rendered scikit-learn.org. See: https://github.com/scikit-learn/scikit-learn/issues/21755 */display: inline-block !important;position: relative;}#sk-container-id-2 div.sk-text-repr-fallback {display: none;}</style><div id=\"sk-container-id-2\" class=\"sk-top-container\"><div class=\"sk-text-repr-fallback\"><pre>RandomForestClassifier(random_state=1)</pre><b>In a Jupyter environment, please rerun this cell to show the HTML representation or trust the notebook. <br />On GitHub, the HTML representation is unable to render, please try loading this page with nbviewer.org.</b></div><div class=\"sk-container\" hidden><div class=\"sk-item\"><div class=\"sk-estimator sk-toggleable\"><input class=\"sk-toggleable__control sk-hidden--visually\" id=\"sk-estimator-id-8\" type=\"checkbox\" checked><label for=\"sk-estimator-id-8\" class=\"sk-toggleable__label sk-toggleable__label-arrow\">RandomForestClassifier</label><div class=\"sk-toggleable__content\"><pre>RandomForestClassifier(random_state=1)</pre></div></div></div></div></div>"
            ],
            "text/plain": [
              "RandomForestClassifier(random_state=1)"
            ]
          },
          "execution_count": 84,
          "metadata": {},
          "output_type": "execute_result"
        }
      ],
      "source": [
        "model.fit(X_train, y_train)"
      ]
    },
    {
      "cell_type": "code",
      "execution_count": null,
      "id": "7a6e0ff5",
      "metadata": {
        "id": "7a6e0ff5"
      },
      "outputs": [],
      "source": [
        "y_pred = model.predict(X_test)"
      ]
    },
    {
      "cell_type": "code",
      "execution_count": null,
      "id": "0a032b9b",
      "metadata": {
        "id": "0a032b9b",
        "outputId": "f6ef620f-af02-46f7-82cf-d1784bc077f5"
      },
      "outputs": [
        {
          "name": "stdout",
          "output_type": "stream",
          "text": [
            "              precision    recall  f1-score   support\n",
            "\n",
            "           0       0.84      0.86      0.85     15713\n",
            "           1       0.74      0.83      0.78     14343\n",
            "           2       0.92      0.82      0.87     17801\n",
            "\n",
            "    accuracy                           0.83     47857\n",
            "   macro avg       0.83      0.83      0.83     47857\n",
            "weighted avg       0.84      0.83      0.84     47857\n",
            "\n"
          ]
        }
      ],
      "source": [
        "print(classification_report(y_pred,y_test))"
      ]
    },
    {
      "cell_type": "code",
      "execution_count": null,
      "id": "fce10cd6",
      "metadata": {
        "id": "fce10cd6",
        "outputId": "6d9b80d5-9879-46df-c526-6898c96c0ae7"
      },
      "outputs": [
        {
          "name": "stdout",
          "output_type": "stream",
          "text": [
            "Train Score:  1.0\n"
          ]
        }
      ],
      "source": [
        "print(\"Train Score: \",model.score(X_train, y_train))"
      ]
    },
    {
      "cell_type": "code",
      "execution_count": null,
      "id": "18cc4e69",
      "metadata": {
        "id": "18cc4e69",
        "outputId": "684f1b06-1eea-469f-f2f0-ac05b7e8ad08"
      },
      "outputs": [
        {
          "name": "stdout",
          "output_type": "stream",
          "text": [
            "Test Score:  0.8341099525670226\n"
          ]
        }
      ],
      "source": [
        "print(\"Test Score: \",model.score(X_test, y_test))"
      ]
    },
    {
      "cell_type": "code",
      "execution_count": null,
      "id": "3e468701",
      "metadata": {
        "id": "3e468701"
      },
      "outputs": [],
      "source": [
        "from sklearn.metrics import precision_recall_fscore_support"
      ]
    },
    {
      "cell_type": "code",
      "execution_count": null,
      "id": "f8f26f0d",
      "metadata": {
        "id": "f8f26f0d",
        "outputId": "4f23fe9e-e4ab-4af5-8a6a-97a1d90bccbc"
      },
      "outputs": [
        {
          "data": {
            "text/plain": [
              "(array([0.85693375, 0.82618699, 0.82034717]),\n",
              " array([0.84409478, 0.74285356, 0.91537642]),\n",
              " array([0.85046581, 0.78230731, 0.86526041]),\n",
              " array([15952, 15952, 15953]))"
            ]
          },
          "execution_count": 93,
          "metadata": {},
          "output_type": "execute_result"
        }
      ],
      "source": [
        "precision_recall_fscore_support(y_test, y_pred)"
      ]
    },
    {
      "cell_type": "code",
      "execution_count": null,
      "id": "1c173235",
      "metadata": {
        "id": "1c173235"
      },
      "outputs": [],
      "source": [
        "from sklearn.metrics import accuracy_score"
      ]
    },
    {
      "cell_type": "code",
      "execution_count": null,
      "id": "3526a322",
      "metadata": {
        "id": "3526a322",
        "outputId": "4f545a2b-85df-4633-aba3-61f51a96a6bf"
      },
      "outputs": [
        {
          "data": {
            "text/plain": [
              "0.8341099525670226"
            ]
          },
          "execution_count": 95,
          "metadata": {},
          "output_type": "execute_result"
        }
      ],
      "source": [
        "accuracy_score(y_test, y_pred)"
      ]
    },
    {
      "cell_type": "code",
      "execution_count": null,
      "id": "366ff36f",
      "metadata": {
        "id": "366ff36f",
        "outputId": "63185cce-22e4-48d9-c473-9568b82b0dcc"
      },
      "outputs": [
        {
          "data": {
            "text/plain": [
              "{'fit_time': array([14.84248805, 14.97179127, 14.85054493]),\n",
              " 'score_time': array([0.49466944, 0.49381566, 0.49684   ]),\n",
              " 'test_score': array([0.82204073, 0.82295417, 0.82262701])}"
            ]
          },
          "execution_count": 96,
          "metadata": {},
          "output_type": "execute_result"
        }
      ],
      "source": [
        "cv3 = cross_validate(model, X_train, y_train, cv=3)\n",
        "cv3"
      ]
    },
    {
      "cell_type": "code",
      "execution_count": null,
      "id": "8b268c81",
      "metadata": {
        "id": "8b268c81",
        "outputId": "00d6a188-02f7-4d6d-e5d0-323298ecbd43"
      },
      "outputs": [
        {
          "data": {
            "text/plain": [
              "{'fit_time': array([10.59227729, 10.73417068]),\n",
              " 'score_time': array([0.68807745, 0.68760467]),\n",
              " 'test_score': array([0.81731234, 0.81623442])}"
            ]
          },
          "execution_count": 99,
          "metadata": {},
          "output_type": "execute_result"
        }
      ],
      "source": [
        "cv1 = cross_validate(model, X_train, y_train, cv=2)\n",
        "cv1"
      ]
    },
    {
      "cell_type": "code",
      "execution_count": null,
      "id": "6d3d71ab",
      "metadata": {
        "id": "6d3d71ab",
        "outputId": "1694fd1b-2b19-4e5b-cb7a-562be18c2800"
      },
      "outputs": [
        {
          "name": "stdout",
          "output_type": "stream",
          "text": [
            "HI\n"
          ]
        }
      ],
      "source": [
        "print(\"HI\")"
      ]
    },
    {
      "cell_type": "code",
      "execution_count": null,
      "id": "8d62e91d",
      "metadata": {
        "id": "8d62e91d"
      },
      "outputs": [],
      "source": [
        "from sklearn.model_selection import KFold"
      ]
    },
    {
      "cell_type": "code",
      "execution_count": null,
      "id": "31195436",
      "metadata": {
        "id": "31195436"
      },
      "outputs": [],
      "source": [
        "def get_eval(model,x_test,y_test):\n",
        "    score, acc = model.evaluate(x_test, y_test)\n",
        "    print(f'loss={score}, accuracy={acc}')\n",
        "    return f'{score},{acc}\\n'"
      ]
    },
    {
      "cell_type": "code",
      "execution_count": null,
      "id": "a7f58ae9",
      "metadata": {
        "id": "a7f58ae9"
      },
      "outputs": [],
      "source": [
        "def k_flod_cross_val(model,x_train, K_Fold = 5):\n",
        "    L = []\n",
        "    kfold = KFold(n_splits = K_Fold, shuffle = True, random_state = 2)\n",
        "    for train_index, test_index in kfold.split(x_train):\n",
        "        # 取得訓練和測試數據\n",
        "        X_train, X_test = x_train[train_index], x_train[test_index]\n",
        "        Y_train, Y_test = y_train[train_index], y_train[test_index]\n",
        "        # 重新建模\n",
        "        # 在測試數據上評估模型\n",
        "        history=model.fit(\n",
        "            X_train,\n",
        "            Y_train,\n",
        "        )\n",
        "        result = get_eval(model,X_test,Y_test)\n",
        "        L.append(result)\n",
        "    return L"
      ]
    },
    {
      "cell_type": "code",
      "execution_count": null,
      "id": "48b15fa0",
      "metadata": {
        "id": "48b15fa0"
      },
      "outputs": [],
      "source": [
        "Train_pred = model.predict(X_train)"
      ]
    },
    {
      "cell_type": "code",
      "execution_count": null,
      "id": "0df74d51",
      "metadata": {
        "id": "0df74d51",
        "outputId": "4481831e-d883-471a-e4ad-eb94456d61c1"
      },
      "outputs": [
        {
          "data": {
            "text/plain": [
              "1.0"
            ]
          },
          "execution_count": 110,
          "metadata": {},
          "output_type": "execute_result"
        }
      ],
      "source": [
        "accuracy_score(y_train, Train_pred)"
      ]
    },
    {
      "cell_type": "code",
      "execution_count": null,
      "id": "8958dbf7",
      "metadata": {
        "id": "8958dbf7"
      },
      "outputs": [],
      "source": [
        "print(\"Train Score: \",model.score(X_train, y_train))"
      ]
    },
    {
      "cell_type": "code",
      "execution_count": null,
      "id": "f16753b5",
      "metadata": {
        "id": "f16753b5"
      },
      "outputs": [],
      "source": [
        "def test_model(model):\n",
        "    cv = cross_validate(model, X_train, y_train, cv=5)\n",
        "    k_flod_acc = cv[\"test_score\"].mean()\n",
        "    model.fit(X_train, y_train)\n",
        "    y_pred = model.predict(X_test)\n",
        "    print(\"Train Score: \",model.score(X_train, y_train))\n",
        "    print(\"Test Score: \",model.score(X_test, y_test))"
      ]
    },
    {
      "cell_type": "code",
      "execution_count": null,
      "id": "38b2a63a",
      "metadata": {
        "id": "38b2a63a",
        "outputId": "36db5fbc-d396-49c1-d139-c6dfc69ad52b"
      },
      "outputs": [
        {
          "data": {
            "text/plain": [
              "111665"
            ]
          },
          "execution_count": 114,
          "metadata": {},
          "output_type": "execute_result"
        }
      ],
      "source": [
        "len(y_train)"
      ]
    },
    {
      "cell_type": "code",
      "execution_count": null,
      "id": "b41cde94",
      "metadata": {
        "id": "b41cde94",
        "outputId": "2ae65404-120c-4c48-fc19-bb369afad566"
      },
      "outputs": [
        {
          "data": {
            "text/plain": [
              "{'fit_time': array([20.86730671, 20.96021461, 20.95510817, 21.01405692, 20.86253214,\n",
              "        20.82434964, 21.03036427, 20.83088994, 20.85994554, 20.888484  ]),\n",
              " 'score_time': array([0.17853761, 0.17907953, 0.17906499, 0.17951608, 0.17819619,\n",
              "        0.17897344, 0.17906642, 0.17888331, 0.1785605 , 0.17857051]),\n",
              " 'test_score': array([0.82833348, 0.83030357, 0.83209456, 0.83728844, 0.82654249,\n",
              "        0.8317213 , 0.83154218, 0.83082572, 0.83539316, 0.83449758])}"
            ]
          },
          "execution_count": 116,
          "metadata": {},
          "output_type": "execute_result"
        }
      ],
      "source": [
        "cv10 = cross_validate(model, X_train, y_train,scoring=(\"accuracy\"), cv=10)\n",
        "cv10"
      ]
    },
    {
      "cell_type": "code",
      "execution_count": null,
      "id": "9060a621",
      "metadata": {
        "id": "9060a621"
      },
      "outputs": [],
      "source": [
        "def test_model(model):\n",
        "#     cv = cross_validate(model, X_train, y_train, cv=5)\n",
        "#     k_flod_acc = cv[\"test_score\"].mean()\n",
        "    model.fit(X_train, y_train)\n",
        "    y_pred = model.predict(X_test)\n",
        "    print(\"Train Score: \",model.score(X_train, y_train))\n",
        "    print(\"Test Score: \",model.score(X_test, y_test))"
      ]
    },
    {
      "cell_type": "code",
      "execution_count": null,
      "id": "f7d9b4c0",
      "metadata": {
        "id": "f7d9b4c0",
        "outputId": "ae9fa996-1a23-403d-e867-f3c0d3de83c3"
      },
      "outputs": [
        {
          "name": "stdout",
          "output_type": "stream",
          "text": [
            "Train Score:  0.7205749339542381\n",
            "Test Score:  0.7151931796811334\n"
          ]
        }
      ],
      "source": [
        "from sklearn.linear_model import LogisticRegression\n",
        "test_model(LogisticRegression())"
      ]
    },
    {
      "cell_type": "code",
      "execution_count": null,
      "id": "1e904ee2",
      "metadata": {
        "id": "1e904ee2",
        "outputId": "f321ae65-d8bb-4094-fb13-84f072908e98"
      },
      "outputs": [
        {
          "name": "stdout",
          "output_type": "stream",
          "text": [
            "Train Score:  0.8954909774772758\n",
            "Test Score:  0.8244352968217815\n"
          ]
        }
      ],
      "source": [
        "from sklearn.neighbors import KNeighborsClassifier\n",
        "test_model(KNeighborsClassifier())"
      ]
    },
    {
      "cell_type": "code",
      "execution_count": null,
      "id": "00e470d8",
      "metadata": {
        "id": "00e470d8",
        "outputId": "6a374494-5586-478b-bf0d-25135705ef13"
      },
      "outputs": [
        {
          "name": "stdout",
          "output_type": "stream",
          "text": [
            "Train Score:  1.0\n",
            "Test Score:  0.742629082474873\n"
          ]
        }
      ],
      "source": [
        "from sklearn.tree  import DecisionTreeClassifier\n",
        "test_model(DecisionTreeClassifier())"
      ]
    },
    {
      "cell_type": "code",
      "execution_count": null,
      "id": "911ad978",
      "metadata": {
        "id": "911ad978",
        "outputId": "73760ae1-2a3d-4797-c932-b92f1f918014"
      },
      "outputs": [
        {
          "name": "stdout",
          "output_type": "stream",
          "text": [
            "Train Score:  1.0\n",
            "Test Score:  0.8339427878889191\n"
          ]
        }
      ],
      "source": [
        "from sklearn.ensemble import RandomForestClassifier\n",
        "test_model(RandomForestClassifier())"
      ]
    },
    {
      "cell_type": "code",
      "execution_count": null,
      "id": "f51fc2f0",
      "metadata": {
        "id": "f51fc2f0",
        "outputId": "78d2372c-9b8a-45a9-8a99-9f9b8fe242db"
      },
      "outputs": [
        {
          "name": "stdout",
          "output_type": "stream",
          "text": [
            "[15:43:51] WARNING: ../src/learner.cc:1115: Starting in XGBoost 1.3.0, the default evaluation metric used with the objective 'multi:softprob' was changed from 'merror' to 'mlogloss'. Explicitly set eval_metric if you'd like to restore the old behavior.\n",
            "Train Score:  0.8755294855147092\n",
            "Test Score:  0.8366592139081013\n"
          ]
        }
      ],
      "source": [
        "from xgboost import XGBClassifier\n",
        "test_model(XGBClassifier())"
      ]
    },
    {
      "cell_type": "code",
      "execution_count": null,
      "id": "520ec621",
      "metadata": {
        "id": "520ec621",
        "outputId": "4b5dffc7-f32f-41bd-fa3d-896722df23a9"
      },
      "outputs": [
        {
          "name": "stdout",
          "output_type": "stream",
          "text": [
            "Train Score:  0.7336676666815922\n",
            "Test Score:  0.7332678605010762\n"
          ]
        }
      ],
      "source": [
        "from sklearn.ensemble import AdaBoostClassifier\n",
        "test_model(AdaBoostClassifier())"
      ]
    },
    {
      "cell_type": "code",
      "execution_count": null,
      "id": "70cf8193",
      "metadata": {
        "id": "70cf8193",
        "outputId": "02803718-8c14-4f57-8b2c-5099690c4acf"
      },
      "outputs": [
        {
          "name": "stdout",
          "output_type": "stream",
          "text": [
            "Train Score:  0.743240943894685\n",
            "Test Score:  0.7361514511983618\n"
          ]
        }
      ],
      "source": [
        "from sklearn.svm import SVC\n",
        "test_model(SVC(kernel= 'rbf', random_state=1, C=0.1))"
      ]
    },
    {
      "cell_type": "code",
      "execution_count": null,
      "id": "0d721b6e",
      "metadata": {
        "id": "0d721b6e",
        "outputId": "9b516e12-34d5-43d9-f114-9733333cc90e"
      },
      "outputs": [
        {
          "data": {
            "text/plain": [
              "(111665, 54)"
            ]
          },
          "execution_count": 132,
          "metadata": {},
          "output_type": "execute_result"
        }
      ],
      "source": [
        "X_train.shape"
      ]
    },
    {
      "cell_type": "markdown",
      "id": "11667f55",
      "metadata": {
        "id": "11667f55"
      },
      "source": [
        "# FS"
      ]
    },
    {
      "cell_type": "code",
      "execution_count": null,
      "id": "820621bf",
      "metadata": {
        "id": "820621bf",
        "outputId": "bcb61fd4-43fd-4ef0-db45-cf03bb53df41"
      },
      "outputs": [
        {
          "name": "stderr",
          "output_type": "stream",
          "text": [
            "2023-01-02 15:52:35.219393: I tensorflow/core/util/util.cc:169] oneDNN custom operations are on. You may see slightly different numerical results due to floating-point round-off errors from different computation orders. To turn them off, set the environment variable `TF_ENABLE_ONEDNN_OPTS=0`.\n"
          ]
        }
      ],
      "source": [
        "import warnings\n",
        "warnings.filterwarnings(\"ignore\")\n",
        "\n",
        "import numpy as np\n",
        "import pandas as pd\n",
        "from sklearn.model_selection import cross_val_score, RepeatedStratifiedKFold\n",
        "import sklearn.metrics as metrics\n",
        "from sklearn.ensemble import RandomForestClassifier\n",
        "from sklearn import preprocessing\n",
        "from sklearn import feature_selection as fs\n",
        "from sklearn.tree import DecisionTreeClassifier\n",
        "\n",
        "import warnings\n",
        "warnings.filterwarnings(\"ignore\")\n",
        "\n",
        "import numpy as np\n",
        "import pandas as pd\n",
        "import io\n",
        "import requests\n",
        "\n",
        "import tensorflow as tf\n",
        "import csv\n",
        "import pandas as pd\n",
        "import numpy as np\n",
        "import os\n",
        "import math\n",
        "from sklearn import metrics\n",
        "from sklearn.metrics import roc_curve\n",
        "from tensorflow.keras import Model, layers\n",
        "import argparse\n"
      ]
    },
    {
      "cell_type": "code",
      "execution_count": null,
      "id": "f2729220",
      "metadata": {
        "id": "f2729220"
      },
      "outputs": [],
      "source": [
        "Data = preprocessing.MinMaxScaler().fit_transform(X_train)\n",
        "target = preprocessing.LabelEncoder().fit_transform(y_train)"
      ]
    },
    {
      "cell_type": "code",
      "execution_count": null,
      "id": "d1619b21",
      "metadata": {
        "id": "d1619b21"
      },
      "outputs": [],
      "source": [
        "clf = DecisionTreeClassifier(random_state=999)"
      ]
    },
    {
      "cell_type": "code",
      "execution_count": null,
      "id": "b212c55f",
      "metadata": {
        "id": "b212c55f"
      },
      "outputs": [],
      "source": [
        "cv_method = RepeatedStratifiedKFold(n_splits=5,\n",
        "                                     n_repeats=3,\n",
        "                                     random_state=999)"
      ]
    },
    {
      "cell_type": "code",
      "execution_count": null,
      "id": "19077e36",
      "metadata": {
        "id": "19077e36"
      },
      "outputs": [],
      "source": [
        "scoring_metric = 'accuracy'"
      ]
    },
    {
      "cell_type": "code",
      "execution_count": null,
      "id": "d03571e7",
      "metadata": {
        "id": "d03571e7"
      },
      "outputs": [],
      "source": [
        "cv_results_full = cross_val_score(estimator=clf,\n",
        "                             X=Data,\n",
        "                             y=target,\n",
        "                             cv=cv_method,\n",
        "                             scoring=scoring_metric)"
      ]
    },
    {
      "cell_type": "code",
      "execution_count": null,
      "id": "269acc65",
      "metadata": {
        "id": "269acc65",
        "outputId": "1f322daf-21a6-462f-cb54-c12a3327fac6"
      },
      "outputs": [
        {
          "data": {
            "text/plain": [
              "array([0.73510052, 0.73416021, 0.73335423, 0.74038418, 0.74038418,\n",
              "       0.74060807, 0.7363095 , 0.74302602, 0.73859311, 0.73680204,\n",
              "       0.73501097, 0.74168271, 0.7320557 , 0.73675727, 0.73657816])"
            ]
          },
          "execution_count": 140,
          "metadata": {},
          "output_type": "execute_result"
        }
      ],
      "source": [
        "cv_results_full"
      ]
    },
    {
      "cell_type": "code",
      "execution_count": null,
      "id": "bdfa35e1",
      "metadata": {
        "id": "bdfa35e1",
        "outputId": "27cfa0c3-fb24-418c-c456-6ed8ddee0d39"
      },
      "outputs": [
        {
          "data": {
            "text/plain": [
              "array([12,  6, 48, 11,  8,  4, 15,  5,  9, 13,  7, 10,  2,  3, 18,  1, 16,\n",
              "       25, 20, 21])"
            ]
          },
          "execution_count": 172,
          "metadata": {},
          "output_type": "execute_result"
        }
      ],
      "source": [
        "num_features = 20\n",
        "fs_fit_fscore = fs.SelectKBest(fs.f_classif, k=num_features)\n",
        "fs_fit_fscore.fit_transform(Data, target)\n",
        "fs_indices_fscore = np.argsort(np.nan_to_num(fs_fit_fscore.scores_))[::-1][0:num_features]\n",
        "fs_indices_fscore"
      ]
    },
    {
      "cell_type": "code",
      "execution_count": null,
      "id": "b727d932",
      "metadata": {
        "id": "b727d932",
        "outputId": "2a415ee1-5b5b-4c9e-a56f-4476d4892070"
      },
      "outputs": [
        {
          "data": {
            "text/plain": [
              "array(['Credit_Mix', 'Interest_Rate', 'Occupation_Writer',\n",
              "       'Num_Credit_Inquiries', 'Delay_from_due_date', 'Num_Bank_Accounts',\n",
              "       'Credit_History_Age', 'Num_Credit_Card', 'Num_of_Delayed_Payment',\n",
              "       'Outstanding_Debt', 'Num_of_Loan', 'Changed_Credit_Limit',\n",
              "       'Annual_Income', 'Monthly_Inhand_Salary', 'Monthly_Balance', 'Age',\n",
              "       'Total_EMI_per_month', 'Mortgage Loan', 'Credit-Builder Loan',\n",
              "       'Personal Loan'], dtype=object)"
            ]
          },
          "execution_count": 173,
          "metadata": {},
          "output_type": "execute_result"
        }
      ],
      "source": [
        "best_features_fscore = df.columns[fs_indices_fscore].values\n",
        "best_features_fscore"
      ]
    },
    {
      "cell_type": "code",
      "execution_count": null,
      "id": "b9570553",
      "metadata": {
        "id": "b9570553",
        "outputId": "5914686a-3b73-4871-f813-620d770a689c"
      },
      "outputs": [
        {
          "data": {
            "text/plain": [
              "array([37107.0448935 , 25480.44738959, 22704.47722589, 18992.43831946,\n",
              "       18902.48359943, 16851.00745896, 16690.99385936, 16526.64564289,\n",
              "       16023.12793835, 15818.04395276, 11607.13910024,  4804.27077918,\n",
              "        3351.67136587,  3210.63347158,  2641.83104634,  2250.82796783,\n",
              "        1063.90932762,   999.90352093,   983.61554914,   894.75236542])"
            ]
          },
          "execution_count": 174,
          "metadata": {},
          "output_type": "execute_result"
        }
      ],
      "source": [
        "feature_importances_fscore = fs_fit_fscore.scores_[fs_indices_fscore]\n",
        "feature_importances_fscore"
      ]
    },
    {
      "cell_type": "code",
      "execution_count": null,
      "id": "4dc20102",
      "metadata": {
        "id": "4dc20102"
      },
      "outputs": [],
      "source": [
        "import matplotlib.pyplot as plt\n",
        "from matplotlib.pyplot import figure\n",
        "# plt.rcParams[\"figure.figsize\"] = (20,3)\n",
        "figure(figsize=(80, 60), dpi=160)\n",
        "%matplotlib inline\n",
        "%config InlineBackend.figure_format = 'retina'\n",
        "\n",
        "# fig.set_size_inches(18.5, 10.5)\n",
        "def plot_imp(best_features, scores, method_name):\n",
        "    plt.rcParams['figure.figsize'] = [16, 12]\n",
        "    plt.barh(best_features, scores)\n",
        "    plt.title(method_name + ' Feature Importances')\n",
        "    plt.xlabel(\"Importance\")\n",
        "    plt.ylabel(\"Features\")\n",
        "    plt.show()\n",
        "    plt.savefig('plot.png')"
      ]
    },
    {
      "cell_type": "code",
      "execution_count": null,
      "id": "7ba69ba6",
      "metadata": {
        "id": "7ba69ba6",
        "outputId": "27924397-87fe-43a5-e680-d1823cd066a0"
      },
      "outputs": [
        {
          "data": {
            "image/png": "[encoded data removed]",
            "text/plain": [
              "<Figure size 1152x864 with 1 Axes>"
            ]
          },
          "metadata": {
            "image/png": {
              "height": 722,
              "width": 1108
            },
            "needs_background": "light"
          },
          "output_type": "display_data"
        },
        {
          "data": {
            "text/plain": [
              "<Figure size 1152x864 with 0 Axes>"
            ]
          },
          "metadata": {},
          "output_type": "display_data"
        }
      ],
      "source": [
        "plot_imp(best_features_fscore, feature_importances_fscore, 'F-Score')"
      ]
    },
    {
      "cell_type": "code",
      "execution_count": null,
      "id": "5756f2dd",
      "metadata": {
        "id": "5756f2dd",
        "outputId": "594751a6-cbc1-4f49-bda2-4041c2ca8ef1"
      },
      "outputs": [
        {
          "data": {
            "text/html": [
              "<div>\n",
              "<style scoped>\n",
              "    .dataframe tbody tr th:only-of-type {\n",
              "        vertical-align: middle;\n",
              "    }\n",
              "\n",
              "    .dataframe tbody tr th {\n",
              "        vertical-align: top;\n",
              "    }\n",
              "\n",
              "    .dataframe thead th {\n",
              "        text-align: right;\n",
              "    }\n",
              "</style>\n",
              "<table border=\"1\" class=\"dataframe\">\n",
              "  <thead>\n",
              "    <tr style=\"text-align: right;\">\n",
              "      <th></th>\n",
              "      <th>Credit_Mix</th>\n",
              "      <th>Interest_Rate</th>\n",
              "      <th>Occupation_Writer</th>\n",
              "      <th>Num_Credit_Inquiries</th>\n",
              "      <th>Delay_from_due_date</th>\n",
              "      <th>Num_Bank_Accounts</th>\n",
              "      <th>Credit_History_Age</th>\n",
              "      <th>Num_Credit_Card</th>\n",
              "      <th>Num_of_Delayed_Payment</th>\n",
              "      <th>Outstanding_Debt</th>\n",
              "    </tr>\n",
              "  </thead>\n",
              "  <tbody>\n",
              "    <tr>\n",
              "      <th>0</th>\n",
              "      <td>2.0</td>\n",
              "      <td>3.0</td>\n",
              "      <td>0</td>\n",
              "      <td>4.0</td>\n",
              "      <td>3.0</td>\n",
              "      <td>3.0</td>\n",
              "      <td>265.0</td>\n",
              "      <td>4.0</td>\n",
              "      <td>7.0</td>\n",
              "      <td>809.98</td>\n",
              "    </tr>\n",
              "    <tr>\n",
              "      <th>1</th>\n",
              "      <td>2.0</td>\n",
              "      <td>3.0</td>\n",
              "      <td>0</td>\n",
              "      <td>4.0</td>\n",
              "      <td>-1.0</td>\n",
              "      <td>3.0</td>\n",
              "      <td>265.0</td>\n",
              "      <td>4.0</td>\n",
              "      <td>7.0</td>\n",
              "      <td>809.98</td>\n",
              "    </tr>\n",
              "    <tr>\n",
              "      <th>2</th>\n",
              "      <td>2.0</td>\n",
              "      <td>3.0</td>\n",
              "      <td>0</td>\n",
              "      <td>4.0</td>\n",
              "      <td>3.0</td>\n",
              "      <td>3.0</td>\n",
              "      <td>267.0</td>\n",
              "      <td>4.0</td>\n",
              "      <td>7.0</td>\n",
              "      <td>809.98</td>\n",
              "    </tr>\n",
              "    <tr>\n",
              "      <th>3</th>\n",
              "      <td>2.0</td>\n",
              "      <td>3.0</td>\n",
              "      <td>0</td>\n",
              "      <td>4.0</td>\n",
              "      <td>5.0</td>\n",
              "      <td>3.0</td>\n",
              "      <td>268.0</td>\n",
              "      <td>4.0</td>\n",
              "      <td>4.0</td>\n",
              "      <td>809.98</td>\n",
              "    </tr>\n",
              "    <tr>\n",
              "      <th>4</th>\n",
              "      <td>2.0</td>\n",
              "      <td>3.0</td>\n",
              "      <td>0</td>\n",
              "      <td>4.0</td>\n",
              "      <td>6.0</td>\n",
              "      <td>3.0</td>\n",
              "      <td>269.0</td>\n",
              "      <td>4.0</td>\n",
              "      <td>7.0</td>\n",
              "      <td>809.98</td>\n",
              "    </tr>\n",
              "    <tr>\n",
              "      <th>...</th>\n",
              "      <td>...</td>\n",
              "      <td>...</td>\n",
              "      <td>...</td>\n",
              "      <td>...</td>\n",
              "      <td>...</td>\n",
              "      <td>...</td>\n",
              "      <td>...</td>\n",
              "      <td>...</td>\n",
              "      <td>...</td>\n",
              "      <td>...</td>\n",
              "    </tr>\n",
              "    <tr>\n",
              "      <th>99995</th>\n",
              "      <td>2.0</td>\n",
              "      <td>7.0</td>\n",
              "      <td>0</td>\n",
              "      <td>3.0</td>\n",
              "      <td>23.0</td>\n",
              "      <td>4.0</td>\n",
              "      <td>378.0</td>\n",
              "      <td>6.0</td>\n",
              "      <td>7.0</td>\n",
              "      <td>502.38</td>\n",
              "    </tr>\n",
              "    <tr>\n",
              "      <th>99996</th>\n",
              "      <td>2.0</td>\n",
              "      <td>7.0</td>\n",
              "      <td>0</td>\n",
              "      <td>3.0</td>\n",
              "      <td>18.0</td>\n",
              "      <td>4.0</td>\n",
              "      <td>379.0</td>\n",
              "      <td>6.0</td>\n",
              "      <td>7.0</td>\n",
              "      <td>502.38</td>\n",
              "    </tr>\n",
              "    <tr>\n",
              "      <th>99997</th>\n",
              "      <td>2.0</td>\n",
              "      <td>13.0</td>\n",
              "      <td>0</td>\n",
              "      <td>3.0</td>\n",
              "      <td>27.0</td>\n",
              "      <td>4.0</td>\n",
              "      <td>380.0</td>\n",
              "      <td>6.0</td>\n",
              "      <td>6.0</td>\n",
              "      <td>502.38</td>\n",
              "    </tr>\n",
              "    <tr>\n",
              "      <th>99998</th>\n",
              "      <td>2.0</td>\n",
              "      <td>7.0</td>\n",
              "      <td>0</td>\n",
              "      <td>3.0</td>\n",
              "      <td>20.0</td>\n",
              "      <td>4.0</td>\n",
              "      <td>381.0</td>\n",
              "      <td>6.0</td>\n",
              "      <td>6.0</td>\n",
              "      <td>502.38</td>\n",
              "    </tr>\n",
              "    <tr>\n",
              "      <th>99999</th>\n",
              "      <td>2.0</td>\n",
              "      <td>7.0</td>\n",
              "      <td>0</td>\n",
              "      <td>3.0</td>\n",
              "      <td>18.0</td>\n",
              "      <td>4.0</td>\n",
              "      <td>382.0</td>\n",
              "      <td>6.0</td>\n",
              "      <td>6.0</td>\n",
              "      <td>502.38</td>\n",
              "    </tr>\n",
              "  </tbody>\n",
              "</table>\n",
              "<p>100000 rows × 10 columns</p>\n",
              "</div>"
            ],
            "text/plain": [
              "       Credit_Mix  Interest_Rate  Occupation_Writer  Num_Credit_Inquiries  \\\n",
              "0             2.0            3.0                  0                   4.0   \n",
              "1             2.0            3.0                  0                   4.0   \n",
              "2             2.0            3.0                  0                   4.0   \n",
              "3             2.0            3.0                  0                   4.0   \n",
              "4             2.0            3.0                  0                   4.0   \n",
              "...           ...            ...                ...                   ...   \n",
              "99995         2.0            7.0                  0                   3.0   \n",
              "99996         2.0            7.0                  0                   3.0   \n",
              "99997         2.0           13.0                  0                   3.0   \n",
              "99998         2.0            7.0                  0                   3.0   \n",
              "99999         2.0            7.0                  0                   3.0   \n",
              "\n",
              "       Delay_from_due_date  Num_Bank_Accounts  Credit_History_Age  \\\n",
              "0                      3.0                3.0               265.0   \n",
              "1                     -1.0                3.0               265.0   \n",
              "2                      3.0                3.0               267.0   \n",
              "3                      5.0                3.0               268.0   \n",
              "4                      6.0                3.0               269.0   \n",
              "...                    ...                ...                 ...   \n",
              "99995                 23.0                4.0               378.0   \n",
              "99996                 18.0                4.0               379.0   \n",
              "99997                 27.0                4.0               380.0   \n",
              "99998                 20.0                4.0               381.0   \n",
              "99999                 18.0                4.0               382.0   \n",
              "\n",
              "       Num_Credit_Card  Num_of_Delayed_Payment  Outstanding_Debt  \n",
              "0                  4.0                     7.0            809.98  \n",
              "1                  4.0                     7.0            809.98  \n",
              "2                  4.0                     7.0            809.98  \n",
              "3                  4.0                     4.0            809.98  \n",
              "4                  4.0                     7.0            809.98  \n",
              "...                ...                     ...               ...  \n",
              "99995              6.0                     7.0            502.38  \n",
              "99996              6.0                     7.0            502.38  \n",
              "99997              6.0                     6.0            502.38  \n",
              "99998              6.0                     6.0            502.38  \n",
              "99999              6.0                     6.0            502.38  \n",
              "\n",
              "[100000 rows x 10 columns]"
            ]
          },
          "execution_count": 182,
          "metadata": {},
          "output_type": "execute_result"
        }
      ],
      "source": [
        "df[best_features_fscore[:10]]"
      ]
    },
    {
      "cell_type": "code",
      "execution_count": null,
      "id": "e0cc9123",
      "metadata": {
        "id": "e0cc9123"
      },
      "outputs": [],
      "source": [
        "X_train = df[best_features_fscore[:10]]"
      ]
    },
    {
      "cell_type": "code",
      "execution_count": null,
      "id": "c621150d",
      "metadata": {
        "id": "c621150d"
      },
      "outputs": [],
      "source": [
        "def test_model(model):\n",
        "#     cv = cross_validate(model, X_train, y_train, cv=5)\n",
        "#     k_flod_acc = cv[\"test_score\"].mean()\n",
        "    model.fit(X_train, y_train)\n",
        "    y_pred = model.predict(X_test)\n",
        "    print(\"Train Score: \",model.score(X_train, y_train))\n",
        "    print(\"Test Score: \",model.score(X_test, y_test))"
      ]
    },
    {
      "cell_type": "code",
      "execution_count": null,
      "id": "e3584257",
      "metadata": {
        "id": "e3584257",
        "outputId": "9506282e-2eba-48ce-8bba-2fe4c5cc9195"
      },
      "outputs": [
        {
          "name": "stdout",
          "output_type": "stream",
          "text": [
            "Train Score:  0.6972820489858058\n",
            "Test Score:  0.6933155024343356\n"
          ]
        }
      ],
      "source": [
        "test_model(LogisticRegression())"
      ]
    },
    {
      "cell_type": "code",
      "execution_count": null,
      "id": "d7b314a8",
      "metadata": {
        "id": "d7b314a8",
        "outputId": "5282be8b-50ef-4c91-8a6d-e9692cedb6e2"
      },
      "outputs": [
        {
          "name": "stdout",
          "output_type": "stream",
          "text": [
            "Train Score:  0.8888281914655443\n",
            "Test Score:  0.839166684079654\n"
          ]
        }
      ],
      "source": [
        "test_model(KNeighborsClassifier())"
      ]
    },
    {
      "cell_type": "code",
      "execution_count": null,
      "id": "d5c570e8",
      "metadata": {
        "id": "d5c570e8",
        "outputId": "1d2ce47c-efe7-40b0-adc0-13b6854aa010"
      },
      "outputs": [
        {
          "name": "stdout",
          "output_type": "stream",
          "text": [
            "Train Score:  0.9983074374244392\n",
            "Test Score:  0.830160687046827\n"
          ]
        }
      ],
      "source": [
        "test_model(DecisionTreeClassifier())"
      ]
    },
    {
      "cell_type": "code",
      "execution_count": null,
      "id": "065fa621",
      "metadata": {
        "id": "065fa621",
        "outputId": "706bcb59-0945-4c81-9bfc-c2e78efc13db"
      },
      "outputs": [
        {
          "name": "stdout",
          "output_type": "stream",
          "text": [
            "Train Score:  0.9982895267093539\n",
            "Test Score:  0.8756294794909836\n"
          ]
        }
      ],
      "source": [
        "test_model(RandomForestClassifier())"
      ]
    },
    {
      "cell_type": "code",
      "execution_count": null,
      "id": "cf5705fd",
      "metadata": {
        "id": "cf5705fd",
        "outputId": "925a7fb8-e08d-4f7a-d66f-a2578c606fba"
      },
      "outputs": [
        {
          "name": "stdout",
          "output_type": "stream",
          "text": [
            "[16:24:24] WARNING: ../src/learner.cc:1115: Starting in XGBoost 1.3.0, the default evaluation metric used with the objective 'multi:softprob' was changed from 'merror' to 'mlogloss'. Explicitly set eval_metric if you'd like to restore the old behavior.\n",
            "Train Score:  0.8193525276496664\n",
            "Test Score:  0.7977725306642707\n"
          ]
        }
      ],
      "source": [
        "test_model(XGBClassifier())"
      ]
    },
    {
      "cell_type": "code",
      "execution_count": null,
      "id": "ce16f317",
      "metadata": {
        "id": "ce16f317",
        "outputId": "1705a6d3-82da-4041-bad9-7251b4f97d6f"
      },
      "outputs": [
        {
          "name": "stdout",
          "output_type": "stream",
          "text": [
            "Train Score:  0.7169301034343796\n",
            "Test Score:  0.7141901916125123\n"
          ]
        }
      ],
      "source": [
        "test_model(AdaBoostClassifier())"
      ]
    },
    {
      "cell_type": "code",
      "execution_count": null,
      "id": "ca79294d",
      "metadata": {
        "id": "ca79294d",
        "outputId": "976e0150-78f8-41ba-f405-ba08e278a120"
      },
      "outputs": [
        {
          "name": "stdout",
          "output_type": "stream",
          "text": [
            "Train Score:  0.7280616128598935\n",
            "Test Score:  0.7252857471216332\n"
          ]
        }
      ],
      "source": [
        "from sklearn.svm import SVC\n",
        "test_model(SVC(kernel= 'rbf', random_state=1, C=0.1))"
      ]
    },
    {
      "cell_type": "markdown",
      "id": "6d0d2091",
      "metadata": {
        "id": "6d0d2091"
      },
      "source": [
        "# top20\n",
        "\n"
      ]
    },
    {
      "cell_type": "code",
      "execution_count": null,
      "id": "cdd5a042",
      "metadata": {
        "id": "cdd5a042",
        "outputId": "4416bc97-9ee7-44d1-cf5c-77216065c0c6"
      },
      "outputs": [
        {
          "name": "stdout",
          "output_type": "stream",
          "text": [
            "Train Score:  0.7027806385169928\n",
            "Test Score:  0.7041394153415383\n"
          ]
        }
      ],
      "source": [
        "test_model(LogisticRegression())"
      ]
    },
    {
      "cell_type": "code",
      "execution_count": null,
      "id": "e7a5f346",
      "metadata": {
        "id": "e7a5f346",
        "outputId": "ae0c6a27-4333-439a-eb29-fc121434ebf9"
      },
      "outputs": [
        {
          "name": "stdout",
          "output_type": "stream",
          "text": [
            "Train Score:  0.8951596292481977\n",
            "Test Score:  0.8489667133334726\n"
          ]
        }
      ],
      "source": [
        "test_model(KNeighborsClassifier())"
      ]
    },
    {
      "cell_type": "code",
      "execution_count": null,
      "id": "f8b8aa6f",
      "metadata": {
        "id": "f8b8aa6f",
        "outputId": "74c62434-1860-456c-8c6d-c2f76b3b5ad9"
      },
      "outputs": [
        {
          "name": "stdout",
          "output_type": "stream",
          "text": [
            "Train Score:  0.9999731339273721\n",
            "Test Score:  0.8238293248636563\n"
          ]
        }
      ],
      "source": [
        "test_model(DecisionTreeClassifier())"
      ]
    },
    {
      "cell_type": "code",
      "execution_count": null,
      "id": "9a4895fb",
      "metadata": {
        "id": "9a4895fb",
        "outputId": "6666393e-8058-45b8-d84e-c754b92f5d71"
      },
      "outputs": [
        {
          "name": "stdout",
          "output_type": "stream",
          "text": [
            "Train Score:  0.9999194017821161\n",
            "Test Score:  0.8818981549198655\n"
          ]
        }
      ],
      "source": [
        "test_model(RandomForestClassifier())"
      ]
    },
    {
      "cell_type": "code",
      "execution_count": null,
      "id": "7e784367",
      "metadata": {
        "id": "7e784367",
        "outputId": "01e22bfd-3b3c-437d-f54b-84cbbcd71564"
      },
      "outputs": [
        {
          "name": "stdout",
          "output_type": "stream",
          "text": [
            "[17:19:24] WARNING: ../src/learner.cc:1115: Starting in XGBoost 1.3.0, the default evaluation metric used with the objective 'multi:softprob' was changed from 'merror' to 'mlogloss'. Explicitly set eval_metric if you'd like to restore the old behavior.\n",
            "Train Score:  0.8473559306855326\n",
            "Test Score:  0.8201517019453789\n"
          ]
        }
      ],
      "source": [
        "test_model(XGBClassifier())"
      ]
    },
    {
      "cell_type": "code",
      "execution_count": null,
      "id": "bc286f64",
      "metadata": {
        "id": "bc286f64",
        "outputId": "c4ff5656-e848-4580-9fa2-78bd7108b1d6"
      },
      "outputs": [
        {
          "name": "stdout",
          "output_type": "stream",
          "text": [
            "Train Score:  0.7217391304347827\n",
            "Test Score:  0.7228409637043692\n"
          ]
        }
      ],
      "source": [
        "test_model(AdaBoostClassifier())"
      ]
    },
    {
      "cell_type": "code",
      "execution_count": null,
      "id": "1c5bfa70",
      "metadata": {
        "id": "1c5bfa70",
        "outputId": "c7219ac4-8872-4efe-851d-a182f8f92c65"
      },
      "outputs": [
        {
          "name": "stdout",
          "output_type": "stream",
          "text": [
            "Train Score:  0.7261899431334796\n",
            "Test Score:  0.7273962011826901\n"
          ]
        }
      ],
      "source": [
        "test_model(SVC(kernel= 'rbf', random_state=1, C=0.1))"
      ]
    },
    {
      "cell_type": "code",
      "execution_count": null,
      "id": "77d7b4ab",
      "metadata": {
        "id": "77d7b4ab"
      },
      "outputs": [],
      "source": []
    }
  ],
  "metadata": {
    "kernelspec": {
      "display_name": "Python 3 (ipykernel)",
      "language": "python",
      "name": "python3"
    },
    "language_info": {
      "codemirror_mode": {
        "name": "ipython",
        "version": 3
      },
      "file_extension": ".py",
      "mimetype": "text/x-python",
      "name": "python",
      "nbconvert_exporter": "python",
      "pygments_lexer": "ipython3",
      "version": "3.8.10"
    },
    "colab": {
      "provenance": []
    }
  },
  "nbformat": 4,
  "nbformat_minor": 5
}